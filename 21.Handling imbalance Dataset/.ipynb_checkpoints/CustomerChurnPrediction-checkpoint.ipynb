{
 "cells": [
  {
   "cell_type": "code",
   "execution_count": 1,
   "metadata": {},
   "outputs": [],
   "source": [
    "#Our Target should be increase the f1-score of each classification or prediction high"
   ]
  },
  {
   "cell_type": "code",
   "execution_count": 2,
   "metadata": {},
   "outputs": [],
   "source": [
    "import pandas as pd\n",
    "import numpy as np\n",
    "import matplotlib.pyplot as plt\n",
    "%matplotlib inline\n",
    "import tensorflow as tf\n",
    "from tensorflow import keras"
   ]
  },
  {
   "cell_type": "code",
   "execution_count": 3,
   "metadata": {},
   "outputs": [
    {
     "data": {
      "text/html": [
       "<div>\n",
       "<style scoped>\n",
       "    .dataframe tbody tr th:only-of-type {\n",
       "        vertical-align: middle;\n",
       "    }\n",
       "\n",
       "    .dataframe tbody tr th {\n",
       "        vertical-align: top;\n",
       "    }\n",
       "\n",
       "    .dataframe thead th {\n",
       "        text-align: right;\n",
       "    }\n",
       "</style>\n",
       "<table border=\"1\" class=\"dataframe\">\n",
       "  <thead>\n",
       "    <tr style=\"text-align: right;\">\n",
       "      <th></th>\n",
       "      <th>customerID</th>\n",
       "      <th>gender</th>\n",
       "      <th>SeniorCitizen</th>\n",
       "      <th>Partner</th>\n",
       "      <th>Dependents</th>\n",
       "      <th>tenure</th>\n",
       "      <th>PhoneService</th>\n",
       "      <th>MultipleLines</th>\n",
       "      <th>InternetService</th>\n",
       "      <th>OnlineSecurity</th>\n",
       "      <th>...</th>\n",
       "      <th>DeviceProtection</th>\n",
       "      <th>TechSupport</th>\n",
       "      <th>StreamingTV</th>\n",
       "      <th>StreamingMovies</th>\n",
       "      <th>Contract</th>\n",
       "      <th>PaperlessBilling</th>\n",
       "      <th>PaymentMethod</th>\n",
       "      <th>MonthlyCharges</th>\n",
       "      <th>TotalCharges</th>\n",
       "      <th>Churn</th>\n",
       "    </tr>\n",
       "  </thead>\n",
       "  <tbody>\n",
       "    <tr>\n",
       "      <th>0</th>\n",
       "      <td>7590-VHVEG</td>\n",
       "      <td>Female</td>\n",
       "      <td>0</td>\n",
       "      <td>Yes</td>\n",
       "      <td>No</td>\n",
       "      <td>1</td>\n",
       "      <td>No</td>\n",
       "      <td>No phone service</td>\n",
       "      <td>DSL</td>\n",
       "      <td>No</td>\n",
       "      <td>...</td>\n",
       "      <td>No</td>\n",
       "      <td>No</td>\n",
       "      <td>No</td>\n",
       "      <td>No</td>\n",
       "      <td>Month-to-month</td>\n",
       "      <td>Yes</td>\n",
       "      <td>Electronic check</td>\n",
       "      <td>29.85</td>\n",
       "      <td>29.85</td>\n",
       "      <td>No</td>\n",
       "    </tr>\n",
       "    <tr>\n",
       "      <th>1</th>\n",
       "      <td>5575-GNVDE</td>\n",
       "      <td>Male</td>\n",
       "      <td>0</td>\n",
       "      <td>No</td>\n",
       "      <td>No</td>\n",
       "      <td>34</td>\n",
       "      <td>Yes</td>\n",
       "      <td>No</td>\n",
       "      <td>DSL</td>\n",
       "      <td>Yes</td>\n",
       "      <td>...</td>\n",
       "      <td>Yes</td>\n",
       "      <td>No</td>\n",
       "      <td>No</td>\n",
       "      <td>No</td>\n",
       "      <td>One year</td>\n",
       "      <td>No</td>\n",
       "      <td>Mailed check</td>\n",
       "      <td>56.95</td>\n",
       "      <td>1889.5</td>\n",
       "      <td>No</td>\n",
       "    </tr>\n",
       "    <tr>\n",
       "      <th>2</th>\n",
       "      <td>3668-QPYBK</td>\n",
       "      <td>Male</td>\n",
       "      <td>0</td>\n",
       "      <td>No</td>\n",
       "      <td>No</td>\n",
       "      <td>2</td>\n",
       "      <td>Yes</td>\n",
       "      <td>No</td>\n",
       "      <td>DSL</td>\n",
       "      <td>Yes</td>\n",
       "      <td>...</td>\n",
       "      <td>No</td>\n",
       "      <td>No</td>\n",
       "      <td>No</td>\n",
       "      <td>No</td>\n",
       "      <td>Month-to-month</td>\n",
       "      <td>Yes</td>\n",
       "      <td>Mailed check</td>\n",
       "      <td>53.85</td>\n",
       "      <td>108.15</td>\n",
       "      <td>Yes</td>\n",
       "    </tr>\n",
       "    <tr>\n",
       "      <th>3</th>\n",
       "      <td>7795-CFOCW</td>\n",
       "      <td>Male</td>\n",
       "      <td>0</td>\n",
       "      <td>No</td>\n",
       "      <td>No</td>\n",
       "      <td>45</td>\n",
       "      <td>No</td>\n",
       "      <td>No phone service</td>\n",
       "      <td>DSL</td>\n",
       "      <td>Yes</td>\n",
       "      <td>...</td>\n",
       "      <td>Yes</td>\n",
       "      <td>Yes</td>\n",
       "      <td>No</td>\n",
       "      <td>No</td>\n",
       "      <td>One year</td>\n",
       "      <td>No</td>\n",
       "      <td>Bank transfer (automatic)</td>\n",
       "      <td>42.30</td>\n",
       "      <td>1840.75</td>\n",
       "      <td>No</td>\n",
       "    </tr>\n",
       "    <tr>\n",
       "      <th>4</th>\n",
       "      <td>9237-HQITU</td>\n",
       "      <td>Female</td>\n",
       "      <td>0</td>\n",
       "      <td>No</td>\n",
       "      <td>No</td>\n",
       "      <td>2</td>\n",
       "      <td>Yes</td>\n",
       "      <td>No</td>\n",
       "      <td>Fiber optic</td>\n",
       "      <td>No</td>\n",
       "      <td>...</td>\n",
       "      <td>No</td>\n",
       "      <td>No</td>\n",
       "      <td>No</td>\n",
       "      <td>No</td>\n",
       "      <td>Month-to-month</td>\n",
       "      <td>Yes</td>\n",
       "      <td>Electronic check</td>\n",
       "      <td>70.70</td>\n",
       "      <td>151.65</td>\n",
       "      <td>Yes</td>\n",
       "    </tr>\n",
       "  </tbody>\n",
       "</table>\n",
       "<p>5 rows × 21 columns</p>\n",
       "</div>"
      ],
      "text/plain": [
       "   customerID  gender  SeniorCitizen Partner Dependents  tenure PhoneService  \\\n",
       "0  7590-VHVEG  Female              0     Yes         No       1           No   \n",
       "1  5575-GNVDE    Male              0      No         No      34          Yes   \n",
       "2  3668-QPYBK    Male              0      No         No       2          Yes   \n",
       "3  7795-CFOCW    Male              0      No         No      45           No   \n",
       "4  9237-HQITU  Female              0      No         No       2          Yes   \n",
       "\n",
       "      MultipleLines InternetService OnlineSecurity  ... DeviceProtection  \\\n",
       "0  No phone service             DSL             No  ...               No   \n",
       "1                No             DSL            Yes  ...              Yes   \n",
       "2                No             DSL            Yes  ...               No   \n",
       "3  No phone service             DSL            Yes  ...              Yes   \n",
       "4                No     Fiber optic             No  ...               No   \n",
       "\n",
       "  TechSupport StreamingTV StreamingMovies        Contract PaperlessBilling  \\\n",
       "0          No          No              No  Month-to-month              Yes   \n",
       "1          No          No              No        One year               No   \n",
       "2          No          No              No  Month-to-month              Yes   \n",
       "3         Yes          No              No        One year               No   \n",
       "4          No          No              No  Month-to-month              Yes   \n",
       "\n",
       "               PaymentMethod MonthlyCharges  TotalCharges Churn  \n",
       "0           Electronic check          29.85         29.85    No  \n",
       "1               Mailed check          56.95        1889.5    No  \n",
       "2               Mailed check          53.85        108.15   Yes  \n",
       "3  Bank transfer (automatic)          42.30       1840.75    No  \n",
       "4           Electronic check          70.70        151.65   Yes  \n",
       "\n",
       "[5 rows x 21 columns]"
      ]
     },
     "execution_count": 3,
     "metadata": {},
     "output_type": "execute_result"
    }
   ],
   "source": [
    "df = pd.read_csv(\"TelcoCustomerChurn.csv\")\n",
    "df.head()"
   ]
  },
  {
   "cell_type": "code",
   "execution_count": 4,
   "metadata": {},
   "outputs": [
    {
     "data": {
      "text/plain": [
       "gender               object\n",
       "SeniorCitizen         int64\n",
       "Partner              object\n",
       "Dependents           object\n",
       "tenure                int64\n",
       "PhoneService         object\n",
       "MultipleLines        object\n",
       "InternetService      object\n",
       "OnlineSecurity       object\n",
       "OnlineBackup         object\n",
       "DeviceProtection     object\n",
       "TechSupport          object\n",
       "StreamingTV          object\n",
       "StreamingMovies      object\n",
       "Contract             object\n",
       "PaperlessBilling     object\n",
       "PaymentMethod        object\n",
       "MonthlyCharges      float64\n",
       "TotalCharges         object\n",
       "Churn                object\n",
       "dtype: object"
      ]
     },
     "execution_count": 4,
     "metadata": {},
     "output_type": "execute_result"
    }
   ],
   "source": [
    "#Data exploration(removing unneccessary columns)\n",
    "df.drop('customerID', axis = 'columns', inplace = True)\n",
    "\n",
    "df.dtypes"
   ]
  },
  {
   "cell_type": "code",
   "execution_count": 5,
   "metadata": {},
   "outputs": [
    {
     "data": {
      "text/plain": [
       "0       False\n",
       "1       False\n",
       "2       False\n",
       "3       False\n",
       "4       False\n",
       "        ...  \n",
       "7038    False\n",
       "7039    False\n",
       "7040    False\n",
       "7041    False\n",
       "7042    False\n",
       "Name: TotalCharges, Length: 7043, dtype: bool"
      ]
     },
     "execution_count": 5,
     "metadata": {},
     "output_type": "execute_result"
    }
   ],
   "source": [
    "pd.to_numeric(df.TotalCharges, errors = 'coerce').isnull()"
   ]
  },
  {
   "cell_type": "code",
   "execution_count": 6,
   "metadata": {},
   "outputs": [
    {
     "data": {
      "text/plain": [
       "(7032, 20)"
      ]
     },
     "execution_count": 6,
     "metadata": {},
     "output_type": "execute_result"
    }
   ],
   "source": [
    "df1 = df[df.TotalCharges != ' ']#dropping total charges null values\n",
    "df1.shape"
   ]
  },
  {
   "cell_type": "code",
   "execution_count": 7,
   "metadata": {},
   "outputs": [
    {
     "name": "stderr",
     "output_type": "stream",
     "text": [
      "C:\\ProgramData\\Anaconda3\\lib\\site-packages\\pandas\\core\\generic.py:5303: SettingWithCopyWarning: \n",
      "A value is trying to be set on a copy of a slice from a DataFrame.\n",
      "Try using .loc[row_indexer,col_indexer] = value instead\n",
      "\n",
      "See the caveats in the documentation: https://pandas.pydata.org/pandas-docs/stable/user_guide/indexing.html#returning-a-view-versus-a-copy\n",
      "  self[name] = value\n"
     ]
    },
    {
     "data": {
      "text/plain": [
       "gender               object\n",
       "SeniorCitizen         int64\n",
       "Partner              object\n",
       "Dependents           object\n",
       "tenure                int64\n",
       "PhoneService         object\n",
       "MultipleLines        object\n",
       "InternetService      object\n",
       "OnlineSecurity       object\n",
       "OnlineBackup         object\n",
       "DeviceProtection     object\n",
       "TechSupport          object\n",
       "StreamingTV          object\n",
       "StreamingMovies      object\n",
       "Contract             object\n",
       "PaperlessBilling     object\n",
       "PaymentMethod        object\n",
       "MonthlyCharges      float64\n",
       "TotalCharges        float64\n",
       "Churn                object\n",
       "dtype: object"
      ]
     },
     "execution_count": 7,
     "metadata": {},
     "output_type": "execute_result"
    }
   ],
   "source": [
    "df1.TotalCharges = pd.to_numeric(df1.TotalCharges)\n",
    "df1.dtypes"
   ]
  },
  {
   "cell_type": "code",
   "execution_count": 8,
   "metadata": {},
   "outputs": [
    {
     "name": "stderr",
     "output_type": "stream",
     "text": [
      "<ipython-input-8-e39f7d235675>:3: UserWarning: Boolean Series key will be reindexed to match DataFrame index.\n",
      "  tenure_churn_yes = df1[df.Churn == 'Yes'].tenure\n",
      "C:\\ProgramData\\Anaconda3\\lib\\site-packages\\numpy\\core\\_asarray.py:83: VisibleDeprecationWarning: Creating an ndarray from ragged nested sequences (which is a list-or-tuple of lists-or-tuples-or ndarrays with different lengths or shapes) is deprecated. If you meant to do this, you must specify 'dtype=object' when creating the ndarray\n",
      "  return array(a, dtype, copy=False, order=order)\n"
     ]
    },
    {
     "data": {
      "text/plain": [
       "<matplotlib.legend.Legend at 0x2832508f790>"
      ]
     },
     "execution_count": 8,
     "metadata": {},
     "output_type": "execute_result"
    },
    {
     "data": {
      "image/png": "[encoded data removed]",
      "text/plain": [
       "<Figure size 432x288 with 1 Axes>"
      ]
     },
     "metadata": {
      "needs_background": "light"
     },
     "output_type": "display_data"
    }
   ],
   "source": [
    "#Visualizing customer who are loyal vs those are not\n",
    "tenure_churn_no = df1[df1.Churn == 'No'].tenure\n",
    "tenure_churn_yes = df1[df.Churn == 'Yes'].tenure\n",
    "\n",
    "plt.xlabel(\"tenure\")\n",
    "plt.ylabel(\"Number of Customers\")\n",
    "plt.title(\"Customer Churn Prediction Visualization\")\n",
    "plt.hist([tenure_churn_yes, tenure_churn_no],color = ['green','red'], label = ['Churn = Yes', 'Churn = No'])\n",
    "plt.legend()"
   ]
  },
  {
   "cell_type": "code",
   "execution_count": 9,
   "metadata": {},
   "outputs": [
    {
     "name": "stderr",
     "output_type": "stream",
     "text": [
      "<ipython-input-9-787887bd22ec>:3: UserWarning: Boolean Series key will be reindexed to match DataFrame index.\n",
      "  mc_churn_yes = df1[df.Churn == 'Yes'].MonthlyCharges\n"
     ]
    },
    {
     "data": {
      "text/plain": [
       "<matplotlib.legend.Legend at 0x2832518cc40>"
      ]
     },
     "execution_count": 9,
     "metadata": {},
     "output_type": "execute_result"
    },
    {
     "data": {
      "image/png": "[encoded data removed]",
      "text/plain": [
       "<Figure size 432x288 with 1 Axes>"
      ]
     },
     "metadata": {
      "needs_background": "light"
     },
     "output_type": "display_data"
    }
   ],
   "source": [
    "#Visualizing customer who are loyal vs those are not\n",
    "mc_churn_no = df1[df1.Churn == 'No'].MonthlyCharges\n",
    "mc_churn_yes = df1[df.Churn == 'Yes'].MonthlyCharges\n",
    "\n",
    "plt.xlabel(\"Monthly Charges\")\n",
    "plt.ylabel(\"Number of Customers\")\n",
    "plt.title(\"Customer Churn Prediction Visualization\")\n",
    "plt.hist([mc_churn_yes, mc_churn_no],color = ['green','red'], label = ['Churn = Yes', 'Churn = No'])\n",
    "plt.legend()"
   ]
  },
  {
   "cell_type": "code",
   "execution_count": 10,
   "metadata": {},
   "outputs": [
    {
     "name": "stdout",
     "output_type": "stream",
     "text": [
      "gender: ['Female' 'Male']\n",
      "Partner: ['Yes' 'No']\n",
      "Dependents: ['No' 'Yes']\n",
      "PhoneService: ['No' 'Yes']\n",
      "MultipleLines: ['No phone service' 'No' 'Yes']\n",
      "InternetService: ['DSL' 'Fiber optic' 'No']\n",
      "OnlineSecurity: ['No' 'Yes' 'No internet service']\n",
      "OnlineBackup: ['Yes' 'No' 'No internet service']\n",
      "DeviceProtection: ['No' 'Yes' 'No internet service']\n",
      "TechSupport: ['No' 'Yes' 'No internet service']\n",
      "StreamingTV: ['No' 'Yes' 'No internet service']\n",
      "StreamingMovies: ['No' 'Yes' 'No internet service']\n",
      "Contract: ['Month-to-month' 'One year' 'Two year']\n",
      "PaperlessBilling: ['Yes' 'No']\n",
      "PaymentMethod: ['Electronic check' 'Mailed check' 'Bank transfer (automatic)'\n",
      " 'Credit card (automatic)']\n",
      "Churn: ['No' 'Yes']\n"
     ]
    }
   ],
   "source": [
    "#printing distinct values in each column\n",
    "def print_unique_col_vlaues(df1):\n",
    "    for column in df1:\n",
    "        if df1[column].dtypes == 'object':\n",
    "            print(f'{column}: {df1[column].unique()}')\n",
    "print_unique_col_vlaues(df1)"
   ]
  },
  {
   "cell_type": "code",
   "execution_count": 11,
   "metadata": {},
   "outputs": [
    {
     "name": "stdout",
     "output_type": "stream",
     "text": [
      "gender: ['Female' 'Male']\n",
      "Partner: ['Yes' 'No']\n",
      "Dependents: ['No' 'Yes']\n",
      "PhoneService: ['No' 'Yes']\n",
      "MultipleLines: ['No' 'Yes']\n",
      "InternetService: ['DSL' 'Fiber optic' 'No']\n",
      "OnlineSecurity: ['No' 'Yes']\n",
      "OnlineBackup: ['Yes' 'No']\n",
      "DeviceProtection: ['No' 'Yes']\n",
      "TechSupport: ['No' 'Yes']\n",
      "StreamingTV: ['No' 'Yes']\n",
      "StreamingMovies: ['No' 'Yes']\n",
      "Contract: ['Month-to-month' 'One year' 'Two year']\n",
      "PaperlessBilling: ['Yes' 'No']\n",
      "PaymentMethod: ['Electronic check' 'Mailed check' 'Bank transfer (automatic)'\n",
      " 'Credit card (automatic)']\n",
      "Churn: ['No' 'Yes']\n"
     ]
    },
    {
     "name": "stderr",
     "output_type": "stream",
     "text": [
      "C:\\ProgramData\\Anaconda3\\lib\\site-packages\\pandas\\core\\frame.py:4166: SettingWithCopyWarning: \n",
      "A value is trying to be set on a copy of a slice from a DataFrame\n",
      "\n",
      "See the caveats in the documentation: https://pandas.pydata.org/pandas-docs/stable/user_guide/indexing.html#returning-a-view-versus-a-copy\n",
      "  return super().replace(\n"
     ]
    }
   ],
   "source": [
    "#Data Cleaning\n",
    "df1.replace('No internet service','No', inplace = True)\n",
    "df1.replace('No phone service','No', inplace = True)\n",
    "print_unique_col_vlaues(df1)"
   ]
  },
  {
   "cell_type": "code",
   "execution_count": 12,
   "metadata": {},
   "outputs": [],
   "source": [
    "#Labelling: convert string to some numerical value to understable by NN"
   ]
  },
  {
   "cell_type": "code",
   "execution_count": 13,
   "metadata": {},
   "outputs": [
    {
     "name": "stderr",
     "output_type": "stream",
     "text": [
      "C:\\ProgramData\\Anaconda3\\lib\\site-packages\\pandas\\core\\generic.py:6746: SettingWithCopyWarning: \n",
      "A value is trying to be set on a copy of a slice from a DataFrame\n",
      "\n",
      "See the caveats in the documentation: https://pandas.pydata.org/pandas-docs/stable/user_guide/indexing.html#returning-a-view-versus-a-copy\n",
      "  self._update_inplace(new_data)\n"
     ]
    }
   ],
   "source": [
    "#Labelling columns with values :['yes', 'no']\n",
    "yes_no_columns = ['Partner', 'Dependents', 'PhoneService', 'MultipleLines', 'OnlineSecurity', 'OnlineBackup', 'DeviceProtection', 'TechSupport', 'StreamingTV', \n",
    "                  'StreamingMovies', 'PaperlessBilling', 'Churn']\n",
    "\n",
    "for col in yes_no_columns:\n",
    "    df1[col].replace({'Yes':1 , 'No':0}, inplace = True)\n",
    "    "
   ]
  },
  {
   "cell_type": "code",
   "execution_count": 14,
   "metadata": {},
   "outputs": [
    {
     "name": "stdout",
     "output_type": "stream",
     "text": [
      "gender:['Female' 'Male']\n",
      "SeniorCitizen:[0 1]\n",
      "Partner:[1 0]\n",
      "Dependents:[0 1]\n",
      "tenure:[ 1 34  2 45  8 22 10 28 62 13 16 58 49 25 69 52 71 21 12 30 47 72 17 27\n",
      "  5 46 11 70 63 43 15 60 18 66  9  3 31 50 64 56  7 42 35 48 29 65 38 68\n",
      " 32 55 37 36 41  6  4 33 67 23 57 61 14 20 53 40 59 24 44 19 54 51 26 39]\n",
      "PhoneService:[0 1]\n",
      "MultipleLines:[0 1]\n",
      "InternetService:['DSL' 'Fiber optic' 'No']\n",
      "OnlineSecurity:[0 1]\n",
      "OnlineBackup:[1 0]\n",
      "DeviceProtection:[0 1]\n",
      "TechSupport:[0 1]\n",
      "StreamingTV:[0 1]\n",
      "StreamingMovies:[0 1]\n",
      "Contract:['Month-to-month' 'One year' 'Two year']\n",
      "PaperlessBilling:[1 0]\n",
      "PaymentMethod:['Electronic check' 'Mailed check' 'Bank transfer (automatic)'\n",
      " 'Credit card (automatic)']\n",
      "MonthlyCharges:[29.85 56.95 53.85 ... 63.1  44.2  78.7 ]\n",
      "TotalCharges:[  29.85 1889.5   108.15 ...  346.45  306.6  6844.5 ]\n",
      "Churn:[0 1]\n"
     ]
    }
   ],
   "source": [
    "for col in df1:\n",
    "    print(f'{col}:{df1[col].unique()}')"
   ]
  },
  {
   "cell_type": "code",
   "execution_count": 15,
   "metadata": {},
   "outputs": [],
   "source": [
    "df1['gender'].replace({'Female':1 , 'Male':0}, inplace = True)"
   ]
  },
  {
   "cell_type": "code",
   "execution_count": 16,
   "metadata": {},
   "outputs": [
    {
     "data": {
      "text/plain": [
       "array([1, 0], dtype=int64)"
      ]
     },
     "execution_count": 16,
     "metadata": {},
     "output_type": "execute_result"
    }
   ],
   "source": [
    "df1['gender'].unique()"
   ]
  },
  {
   "cell_type": "code",
   "execution_count": 17,
   "metadata": {},
   "outputs": [
    {
     "data": {
      "text/plain": [
       "Index(['gender', 'SeniorCitizen', 'Partner', 'Dependents', 'tenure',\n",
       "       'PhoneService', 'MultipleLines', 'OnlineSecurity', 'OnlineBackup',\n",
       "       'DeviceProtection', 'TechSupport', 'StreamingTV', 'StreamingMovies',\n",
       "       'PaperlessBilling', 'MonthlyCharges', 'TotalCharges', 'Churn',\n",
       "       'InternetService_DSL', 'InternetService_Fiber optic',\n",
       "       'InternetService_No', 'Contract_Month-to-month', 'Contract_One year',\n",
       "       'Contract_Two year', 'PaymentMethod_Bank transfer (automatic)',\n",
       "       'PaymentMethod_Credit card (automatic)',\n",
       "       'PaymentMethod_Electronic check', 'PaymentMethod_Mailed check'],\n",
       "      dtype='object')"
      ]
     },
     "execution_count": 17,
     "metadata": {},
     "output_type": "execute_result"
    }
   ],
   "source": [
    "#one hot encoding for more than 2 unique non-integer values\n",
    "df2 = pd.get_dummies(data= df1, columns = ['InternetService','Contract','PaymentMethod'])\n",
    "df2.columns"
   ]
  },
  {
   "cell_type": "code",
   "execution_count": 18,
   "metadata": {},
   "outputs": [
    {
     "data": {
      "text/html": [
       "<div>\n",
       "<style scoped>\n",
       "    .dataframe tbody tr th:only-of-type {\n",
       "        vertical-align: middle;\n",
       "    }\n",
       "\n",
       "    .dataframe tbody tr th {\n",
       "        vertical-align: top;\n",
       "    }\n",
       "\n",
       "    .dataframe thead th {\n",
       "        text-align: right;\n",
       "    }\n",
       "</style>\n",
       "<table border=\"1\" class=\"dataframe\">\n",
       "  <thead>\n",
       "    <tr style=\"text-align: right;\">\n",
       "      <th></th>\n",
       "      <th>gender</th>\n",
       "      <th>SeniorCitizen</th>\n",
       "      <th>Partner</th>\n",
       "      <th>Dependents</th>\n",
       "      <th>tenure</th>\n",
       "      <th>PhoneService</th>\n",
       "      <th>MultipleLines</th>\n",
       "      <th>OnlineSecurity</th>\n",
       "      <th>OnlineBackup</th>\n",
       "      <th>DeviceProtection</th>\n",
       "      <th>...</th>\n",
       "      <th>InternetService_DSL</th>\n",
       "      <th>InternetService_Fiber optic</th>\n",
       "      <th>InternetService_No</th>\n",
       "      <th>Contract_Month-to-month</th>\n",
       "      <th>Contract_One year</th>\n",
       "      <th>Contract_Two year</th>\n",
       "      <th>PaymentMethod_Bank transfer (automatic)</th>\n",
       "      <th>PaymentMethod_Credit card (automatic)</th>\n",
       "      <th>PaymentMethod_Electronic check</th>\n",
       "      <th>PaymentMethod_Mailed check</th>\n",
       "    </tr>\n",
       "  </thead>\n",
       "  <tbody>\n",
       "    <tr>\n",
       "      <th>4637</th>\n",
       "      <td>0</td>\n",
       "      <td>1</td>\n",
       "      <td>1</td>\n",
       "      <td>0</td>\n",
       "      <td>71</td>\n",
       "      <td>1</td>\n",
       "      <td>0</td>\n",
       "      <td>1</td>\n",
       "      <td>1</td>\n",
       "      <td>0</td>\n",
       "      <td>...</td>\n",
       "      <td>1</td>\n",
       "      <td>0</td>\n",
       "      <td>0</td>\n",
       "      <td>0</td>\n",
       "      <td>1</td>\n",
       "      <td>0</td>\n",
       "      <td>1</td>\n",
       "      <td>0</td>\n",
       "      <td>0</td>\n",
       "      <td>0</td>\n",
       "    </tr>\n",
       "    <tr>\n",
       "      <th>1360</th>\n",
       "      <td>1</td>\n",
       "      <td>1</td>\n",
       "      <td>0</td>\n",
       "      <td>0</td>\n",
       "      <td>13</td>\n",
       "      <td>1</td>\n",
       "      <td>1</td>\n",
       "      <td>0</td>\n",
       "      <td>0</td>\n",
       "      <td>0</td>\n",
       "      <td>...</td>\n",
       "      <td>0</td>\n",
       "      <td>1</td>\n",
       "      <td>0</td>\n",
       "      <td>1</td>\n",
       "      <td>0</td>\n",
       "      <td>0</td>\n",
       "      <td>0</td>\n",
       "      <td>0</td>\n",
       "      <td>1</td>\n",
       "      <td>0</td>\n",
       "    </tr>\n",
       "    <tr>\n",
       "      <th>5717</th>\n",
       "      <td>0</td>\n",
       "      <td>1</td>\n",
       "      <td>1</td>\n",
       "      <td>0</td>\n",
       "      <td>69</td>\n",
       "      <td>0</td>\n",
       "      <td>0</td>\n",
       "      <td>1</td>\n",
       "      <td>1</td>\n",
       "      <td>0</td>\n",
       "      <td>...</td>\n",
       "      <td>1</td>\n",
       "      <td>0</td>\n",
       "      <td>0</td>\n",
       "      <td>0</td>\n",
       "      <td>0</td>\n",
       "      <td>1</td>\n",
       "      <td>0</td>\n",
       "      <td>1</td>\n",
       "      <td>0</td>\n",
       "      <td>0</td>\n",
       "    </tr>\n",
       "    <tr>\n",
       "      <th>3820</th>\n",
       "      <td>0</td>\n",
       "      <td>1</td>\n",
       "      <td>1</td>\n",
       "      <td>0</td>\n",
       "      <td>72</td>\n",
       "      <td>1</td>\n",
       "      <td>1</td>\n",
       "      <td>1</td>\n",
       "      <td>1</td>\n",
       "      <td>1</td>\n",
       "      <td>...</td>\n",
       "      <td>0</td>\n",
       "      <td>1</td>\n",
       "      <td>0</td>\n",
       "      <td>1</td>\n",
       "      <td>0</td>\n",
       "      <td>0</td>\n",
       "      <td>0</td>\n",
       "      <td>1</td>\n",
       "      <td>0</td>\n",
       "      <td>0</td>\n",
       "    </tr>\n",
       "    <tr>\n",
       "      <th>1449</th>\n",
       "      <td>1</td>\n",
       "      <td>1</td>\n",
       "      <td>0</td>\n",
       "      <td>0</td>\n",
       "      <td>6</td>\n",
       "      <td>1</td>\n",
       "      <td>0</td>\n",
       "      <td>0</td>\n",
       "      <td>0</td>\n",
       "      <td>0</td>\n",
       "      <td>...</td>\n",
       "      <td>0</td>\n",
       "      <td>0</td>\n",
       "      <td>1</td>\n",
       "      <td>1</td>\n",
       "      <td>0</td>\n",
       "      <td>0</td>\n",
       "      <td>1</td>\n",
       "      <td>0</td>\n",
       "      <td>0</td>\n",
       "      <td>0</td>\n",
       "    </tr>\n",
       "  </tbody>\n",
       "</table>\n",
       "<p>5 rows × 27 columns</p>\n",
       "</div>"
      ],
      "text/plain": [
       "      gender  SeniorCitizen  Partner  Dependents  tenure  PhoneService  \\\n",
       "4637       0              1        1           0      71             1   \n",
       "1360       1              1        0           0      13             1   \n",
       "5717       0              1        1           0      69             0   \n",
       "3820       0              1        1           0      72             1   \n",
       "1449       1              1        0           0       6             1   \n",
       "\n",
       "      MultipleLines  OnlineSecurity  OnlineBackup  DeviceProtection  ...  \\\n",
       "4637              0               1             1                 0  ...   \n",
       "1360              1               0             0                 0  ...   \n",
       "5717              0               1             1                 0  ...   \n",
       "3820              1               1             1                 1  ...   \n",
       "1449              0               0             0                 0  ...   \n",
       "\n",
       "      InternetService_DSL  InternetService_Fiber optic  InternetService_No  \\\n",
       "4637                    1                            0                   0   \n",
       "1360                    0                            1                   0   \n",
       "5717                    1                            0                   0   \n",
       "3820                    0                            1                   0   \n",
       "1449                    0                            0                   1   \n",
       "\n",
       "      Contract_Month-to-month  Contract_One year  Contract_Two year  \\\n",
       "4637                        0                  1                  0   \n",
       "1360                        1                  0                  0   \n",
       "5717                        0                  0                  1   \n",
       "3820                        1                  0                  0   \n",
       "1449                        1                  0                  0   \n",
       "\n",
       "      PaymentMethod_Bank transfer (automatic)  \\\n",
       "4637                                        1   \n",
       "1360                                        0   \n",
       "5717                                        0   \n",
       "3820                                        0   \n",
       "1449                                        1   \n",
       "\n",
       "      PaymentMethod_Credit card (automatic)  PaymentMethod_Electronic check  \\\n",
       "4637                                      0                               0   \n",
       "1360                                      0                               1   \n",
       "5717                                      1                               0   \n",
       "3820                                      1                               0   \n",
       "1449                                      0                               0   \n",
       "\n",
       "      PaymentMethod_Mailed check  \n",
       "4637                           0  \n",
       "1360                           0  \n",
       "5717                           0  \n",
       "3820                           0  \n",
       "1449                           0  \n",
       "\n",
       "[5 rows x 27 columns]"
      ]
     },
     "execution_count": 18,
     "metadata": {},
     "output_type": "execute_result"
    }
   ],
   "source": [
    "df2.sample(5)"
   ]
  },
  {
   "cell_type": "code",
   "execution_count": 19,
   "metadata": {},
   "outputs": [
    {
     "data": {
      "text/plain": [
       "gender                                       int64\n",
       "SeniorCitizen                                int64\n",
       "Partner                                      int64\n",
       "Dependents                                   int64\n",
       "tenure                                       int64\n",
       "PhoneService                                 int64\n",
       "MultipleLines                                int64\n",
       "OnlineSecurity                               int64\n",
       "OnlineBackup                                 int64\n",
       "DeviceProtection                             int64\n",
       "TechSupport                                  int64\n",
       "StreamingTV                                  int64\n",
       "StreamingMovies                              int64\n",
       "PaperlessBilling                             int64\n",
       "MonthlyCharges                             float64\n",
       "TotalCharges                               float64\n",
       "Churn                                        int64\n",
       "InternetService_DSL                          uint8\n",
       "InternetService_Fiber optic                  uint8\n",
       "InternetService_No                           uint8\n",
       "Contract_Month-to-month                      uint8\n",
       "Contract_One year                            uint8\n",
       "Contract_Two year                            uint8\n",
       "PaymentMethod_Bank transfer (automatic)      uint8\n",
       "PaymentMethod_Credit card (automatic)        uint8\n",
       "PaymentMethod_Electronic check               uint8\n",
       "PaymentMethod_Mailed check                   uint8\n",
       "dtype: object"
      ]
     },
     "execution_count": 19,
     "metadata": {},
     "output_type": "execute_result"
    }
   ],
   "source": [
    "df2.dtypes#all data types are integer value"
   ]
  },
  {
   "cell_type": "code",
   "execution_count": 20,
   "metadata": {},
   "outputs": [],
   "source": [
    "#scaling values: getting in the range of min and max\n",
    "cols_to_scale = ['tenure','MonthlyCharges','TotalCharges']\n",
    "\n",
    "from sklearn.preprocessing import MinMaxScaler\n",
    "scaler = MinMaxScaler()\n",
    "\n",
    "df2[cols_to_scale] = scaler.fit_transform(df2[cols_to_scale])"
   ]
  },
  {
   "cell_type": "code",
   "execution_count": 21,
   "metadata": {},
   "outputs": [
    {
     "data": {
      "text/html": [
       "<div>\n",
       "<style scoped>\n",
       "    .dataframe tbody tr th:only-of-type {\n",
       "        vertical-align: middle;\n",
       "    }\n",
       "\n",
       "    .dataframe tbody tr th {\n",
       "        vertical-align: top;\n",
       "    }\n",
       "\n",
       "    .dataframe thead th {\n",
       "        text-align: right;\n",
       "    }\n",
       "</style>\n",
       "<table border=\"1\" class=\"dataframe\">\n",
       "  <thead>\n",
       "    <tr style=\"text-align: right;\">\n",
       "      <th></th>\n",
       "      <th>tenure</th>\n",
       "      <th>MonthlyCharges</th>\n",
       "      <th>TotalCharges</th>\n",
       "    </tr>\n",
       "  </thead>\n",
       "  <tbody>\n",
       "    <tr>\n",
       "      <th>923</th>\n",
       "      <td>0.873239</td>\n",
       "      <td>0.611443</td>\n",
       "      <td>0.550121</td>\n",
       "    </tr>\n",
       "    <tr>\n",
       "      <th>2198</th>\n",
       "      <td>0.225352</td>\n",
       "      <td>0.434826</td>\n",
       "      <td>0.121382</td>\n",
       "    </tr>\n",
       "    <tr>\n",
       "      <th>6867</th>\n",
       "      <td>0.929577</td>\n",
       "      <td>0.016915</td>\n",
       "      <td>0.149198</td>\n",
       "    </tr>\n",
       "  </tbody>\n",
       "</table>\n",
       "</div>"
      ],
      "text/plain": [
       "        tenure  MonthlyCharges  TotalCharges\n",
       "923   0.873239        0.611443      0.550121\n",
       "2198  0.225352        0.434826      0.121382\n",
       "6867  0.929577        0.016915      0.149198"
      ]
     },
     "execution_count": 21,
     "metadata": {},
     "output_type": "execute_result"
    }
   ],
   "source": [
    "df2[cols_to_scale].sample(3)"
   ]
  },
  {
   "cell_type": "code",
   "execution_count": 34,
   "metadata": {},
   "outputs": [],
   "source": [
    "#train and test data\n",
    "\n",
    "X = df2.drop('Churn', axis = 'columns')\n",
    "y = df2.Churn\n"
   ]
  },
  {
   "cell_type": "code",
   "execution_count": 36,
   "metadata": {},
   "outputs": [],
   "source": [
    "from sklearn.model_selection import train_test_split\n",
    "from sklearn.metrics import classification_report, confusion_matrix\n",
    "X_train, X_test, y_train, y_test = train_test_split(X,y, test_size = 0.25, random_state = 5)"
   ]
  },
  {
   "cell_type": "code",
   "execution_count": 24,
   "metadata": {},
   "outputs": [
    {
     "data": {
      "text/plain": [
       "(5274, 26)"
      ]
     },
     "execution_count": 24,
     "metadata": {},
     "output_type": "execute_result"
    }
   ],
   "source": [
    "X_train.shape"
   ]
  },
  {
   "cell_type": "code",
   "execution_count": 25,
   "metadata": {},
   "outputs": [
    {
     "data": {
      "text/plain": [
       "0    1267\n",
       "1     491\n",
       "Name: Churn, dtype: int64"
      ]
     },
     "execution_count": 25,
     "metadata": {},
     "output_type": "execute_result"
    }
   ],
   "source": [
    "X_test.shape\n",
    "y_test.value_counts()\n",
    "#here is an imbalance because 1 class is undersamples than 0 class  "
   ]
  },
  {
   "cell_type": "code",
   "execution_count": 37,
   "metadata": {},
   "outputs": [],
   "source": [
    "#For imbalnce dataset\n",
    "\n",
    "def ANN(X_train, y_train, X_test, y_test, loss, weights):\n",
    "    model = keras.Sequential([\n",
    "    keras.layers.Dense(26, input_dim= 26, activation= 'relu'),\n",
    "    keras.layers.Dense(15, activation= 'relu'),\n",
    "    keras.layers.Dense(1, activation = 'sigmoid')\n",
    "    ])\n",
    "\n",
    "    model.compile(optimizer = 'adam',\n",
    "             loss = loss,\n",
    "             metrics = ['accuracy'])\n",
    "    \n",
    "    if weights == -1:\n",
    "        model.fit(X_train, y_train, epochs = 100)\n",
    "    else:\n",
    "        model.fit(X_train, y_train, epochs= 100, class_weight = weights) #class_weight to tackle imbalance weights(doesn't work always)\n",
    "    \n",
    "    print (model.evaluate(X_test, y_test))\n",
    "    \n",
    "    y_preds = model.predict(X_test)\n",
    "    y_preds = np.round(y_preds)\n",
    "    \n",
    "    print(\"Classification Report :\\n\", classification_report(y_test, y_preds))\n",
    "    \n",
    "    return y_preds"
   ]
  },
  {
   "cell_type": "code",
   "execution_count": 38,
   "metadata": {},
   "outputs": [
    {
     "name": "stdout",
     "output_type": "stream",
     "text": [
      "Epoch 1/100\n",
      "165/165 [==============================] - 1s 1ms/step - loss: 0.6062 - accuracy: 0.6254\n",
      "Epoch 2/100\n",
      "165/165 [==============================] - 0s 1ms/step - loss: 0.4387 - accuracy: 0.7925\n",
      "Epoch 3/100\n",
      "165/165 [==============================] - 0s 2ms/step - loss: 0.4386 - accuracy: 0.7943\n",
      "Epoch 4/100\n",
      "165/165 [==============================] - 0s 2ms/step - loss: 0.4294 - accuracy: 0.7940\n",
      "Epoch 5/100\n",
      "165/165 [==============================] - 0s 2ms/step - loss: 0.4051 - accuracy: 0.8056\n",
      "Epoch 6/100\n",
      "165/165 [==============================] - 0s 1ms/step - loss: 0.4035 - accuracy: 0.8107\n",
      "Epoch 7/100\n",
      "165/165 [==============================] - 0s 2ms/step - loss: 0.3895 - accuracy: 0.8157\n",
      "Epoch 8/100\n",
      "165/165 [==============================] - 0s 2ms/step - loss: 0.4045 - accuracy: 0.8071\n",
      "Epoch 9/100\n",
      "165/165 [==============================] - 0s 1ms/step - loss: 0.4075 - accuracy: 0.8007\n",
      "Epoch 10/100\n",
      "165/165 [==============================] - 0s 2ms/step - loss: 0.3974 - accuracy: 0.8146\n",
      "Epoch 11/100\n",
      "165/165 [==============================] - 0s 1ms/step - loss: 0.4040 - accuracy: 0.8130\n",
      "Epoch 12/100\n",
      "165/165 [==============================] - 0s 2ms/step - loss: 0.4035 - accuracy: 0.8134\n",
      "Epoch 13/100\n",
      "165/165 [==============================] - 0s 1ms/step - loss: 0.4055 - accuracy: 0.8070\n",
      "Epoch 14/100\n",
      "165/165 [==============================] - 0s 2ms/step - loss: 0.3942 - accuracy: 0.8205\n",
      "Epoch 15/100\n",
      "165/165 [==============================] - 0s 2ms/step - loss: 0.4017 - accuracy: 0.8075\n",
      "Epoch 16/100\n",
      "165/165 [==============================] - 0s 1ms/step - loss: 0.3835 - accuracy: 0.8178\n",
      "Epoch 17/100\n",
      "165/165 [==============================] - 0s 1ms/step - loss: 0.3844 - accuracy: 0.8230\n",
      "Epoch 18/100\n",
      "165/165 [==============================] - 0s 2ms/step - loss: 0.4091 - accuracy: 0.8085\n",
      "Epoch 19/100\n",
      "165/165 [==============================] - 0s 2ms/step - loss: 0.3973 - accuracy: 0.8094\n",
      "Epoch 20/100\n",
      "165/165 [==============================] - 0s 2ms/step - loss: 0.3808 - accuracy: 0.8203\n",
      "Epoch 21/100\n",
      "165/165 [==============================] - 0s 1ms/step - loss: 0.3978 - accuracy: 0.8142\n",
      "Epoch 22/100\n",
      "165/165 [==============================] - 0s 2ms/step - loss: 0.3869 - accuracy: 0.8212\n",
      "Epoch 23/100\n",
      "165/165 [==============================] - 0s 1ms/step - loss: 0.3823 - accuracy: 0.8243\n",
      "Epoch 24/100\n",
      "165/165 [==============================] - 0s 1ms/step - loss: 0.3901 - accuracy: 0.8184\n",
      "Epoch 25/100\n",
      "165/165 [==============================] - 0s 1ms/step - loss: 0.3845 - accuracy: 0.8208\n",
      "Epoch 26/100\n",
      "165/165 [==============================] - 0s 2ms/step - loss: 0.3849 - accuracy: 0.8196\n",
      "Epoch 27/100\n",
      "165/165 [==============================] - 0s 2ms/step - loss: 0.3866 - accuracy: 0.8170\n",
      "Epoch 28/100\n",
      "165/165 [==============================] - 0s 1ms/step - loss: 0.3714 - accuracy: 0.8249\n",
      "Epoch 29/100\n",
      "165/165 [==============================] - 0s 2ms/step - loss: 0.3768 - accuracy: 0.8284\n",
      "Epoch 30/100\n",
      "165/165 [==============================] - 0s 2ms/step - loss: 0.3729 - accuracy: 0.8261\n",
      "Epoch 31/100\n",
      "165/165 [==============================] - 0s 2ms/step - loss: 0.3784 - accuracy: 0.8237\n",
      "Epoch 32/100\n",
      "165/165 [==============================] - 0s 1ms/step - loss: 0.3742 - accuracy: 0.8250\n",
      "Epoch 33/100\n",
      "165/165 [==============================] - 0s 2ms/step - loss: 0.3757 - accuracy: 0.8257\n",
      "Epoch 34/100\n",
      "165/165 [==============================] - 0s 1ms/step - loss: 0.3639 - accuracy: 0.8356\n",
      "Epoch 35/100\n",
      "165/165 [==============================] - 0s 2ms/step - loss: 0.3663 - accuracy: 0.8334\n",
      "Epoch 36/100\n",
      "165/165 [==============================] - 0s 1ms/step - loss: 0.3651 - accuracy: 0.8295\n",
      "Epoch 37/100\n",
      "165/165 [==============================] - 0s 2ms/step - loss: 0.3675 - accuracy: 0.8282\n",
      "Epoch 38/100\n",
      "165/165 [==============================] - 0s 1ms/step - loss: 0.3700 - accuracy: 0.8251\n",
      "Epoch 39/100\n",
      "165/165 [==============================] - 0s 2ms/step - loss: 0.3646 - accuracy: 0.8369\n",
      "Epoch 40/100\n",
      "165/165 [==============================] - 0s 2ms/step - loss: 0.3617 - accuracy: 0.8364\n",
      "Epoch 41/100\n",
      "165/165 [==============================] - 0s 2ms/step - loss: 0.3669 - accuracy: 0.8303\n",
      "Epoch 42/100\n",
      "165/165 [==============================] - 0s 2ms/step - loss: 0.3740 - accuracy: 0.8276\n",
      "Epoch 43/100\n",
      "165/165 [==============================] - 0s 2ms/step - loss: 0.3780 - accuracy: 0.8221\n",
      "Epoch 44/100\n",
      "165/165 [==============================] - 0s 2ms/step - loss: 0.3763 - accuracy: 0.8284\n",
      "Epoch 45/100\n",
      "165/165 [==============================] - 0s 2ms/step - loss: 0.3716 - accuracy: 0.8313\n",
      "Epoch 46/100\n",
      "165/165 [==============================] - 0s 2ms/step - loss: 0.3717 - accuracy: 0.8281\n",
      "Epoch 47/100\n",
      "165/165 [==============================] - 0s 2ms/step - loss: 0.3679 - accuracy: 0.8315\n",
      "Epoch 48/100\n",
      "165/165 [==============================] - 0s 2ms/step - loss: 0.3601 - accuracy: 0.8373\n",
      "Epoch 49/100\n",
      "165/165 [==============================] - 0s 2ms/step - loss: 0.3528 - accuracy: 0.8381\n",
      "Epoch 50/100\n",
      "165/165 [==============================] - 0s 2ms/step - loss: 0.3644 - accuracy: 0.8313\n",
      "Epoch 51/100\n",
      "165/165 [==============================] - 0s 2ms/step - loss: 0.3650 - accuracy: 0.8290\n",
      "Epoch 52/100\n",
      "165/165 [==============================] - 0s 2ms/step - loss: 0.3697 - accuracy: 0.8310\n",
      "Epoch 53/100\n",
      "165/165 [==============================] - 0s 2ms/step - loss: 0.3609 - accuracy: 0.8312\n",
      "Epoch 54/100\n",
      "165/165 [==============================] - 0s 2ms/step - loss: 0.3577 - accuracy: 0.8355\n",
      "Epoch 55/100\n",
      "165/165 [==============================] - 0s 1ms/step - loss: 0.3682 - accuracy: 0.8285\n",
      "Epoch 56/100\n",
      "165/165 [==============================] - 0s 1ms/step - loss: 0.3628 - accuracy: 0.8285\n",
      "Epoch 57/100\n",
      "165/165 [==============================] - 0s 1ms/step - loss: 0.3661 - accuracy: 0.8254\n",
      "Epoch 58/100\n",
      "165/165 [==============================] - 0s 2ms/step - loss: 0.3682 - accuracy: 0.8309\n",
      "Epoch 59/100\n",
      "165/165 [==============================] - 0s 1ms/step - loss: 0.3483 - accuracy: 0.8452\n",
      "Epoch 60/100\n",
      "165/165 [==============================] - 0s 1ms/step - loss: 0.3555 - accuracy: 0.8275\n",
      "Epoch 61/100\n",
      "165/165 [==============================] - 0s 2ms/step - loss: 0.3598 - accuracy: 0.8298\n",
      "Epoch 62/100\n",
      "165/165 [==============================] - 0s 1ms/step - loss: 0.3633 - accuracy: 0.8337\n",
      "Epoch 63/100\n",
      "165/165 [==============================] - 0s 2ms/step - loss: 0.3587 - accuracy: 0.8299\n",
      "Epoch 64/100\n",
      "165/165 [==============================] - 0s 1ms/step - loss: 0.3552 - accuracy: 0.8325\n",
      "Epoch 65/100\n",
      "165/165 [==============================] - 0s 2ms/step - loss: 0.3522 - accuracy: 0.8363\n",
      "Epoch 66/100\n",
      "165/165 [==============================] - 0s 1ms/step - loss: 0.3468 - accuracy: 0.8378\n",
      "Epoch 67/100\n",
      "165/165 [==============================] - 0s 2ms/step - loss: 0.3546 - accuracy: 0.8350\n",
      "Epoch 68/100\n",
      "165/165 [==============================] - 0s 2ms/step - loss: 0.3427 - accuracy: 0.8441\n",
      "Epoch 69/100\n",
      "165/165 [==============================] - 0s 1ms/step - loss: 0.3539 - accuracy: 0.8421\n",
      "Epoch 70/100\n",
      "165/165 [==============================] - 0s 2ms/step - loss: 0.3433 - accuracy: 0.8396\n",
      "Epoch 71/100\n",
      "165/165 [==============================] - 0s 1ms/step - loss: 0.3540 - accuracy: 0.8343\n",
      "Epoch 72/100\n",
      "165/165 [==============================] - 0s 2ms/step - loss: 0.3437 - accuracy: 0.8380\n",
      "Epoch 73/100\n",
      "165/165 [==============================] - 0s 2ms/step - loss: 0.3388 - accuracy: 0.8459\n",
      "Epoch 74/100\n",
      "165/165 [==============================] - 0s 2ms/step - loss: 0.3502 - accuracy: 0.8310\n",
      "Epoch 75/100\n",
      "165/165 [==============================] - 0s 1ms/step - loss: 0.3542 - accuracy: 0.8321\n",
      "Epoch 76/100\n",
      "165/165 [==============================] - 0s 2ms/step - loss: 0.3466 - accuracy: 0.8334\n",
      "Epoch 77/100\n",
      "165/165 [==============================] - 0s 1ms/step - loss: 0.3381 - accuracy: 0.8445\n",
      "Epoch 78/100\n",
      "165/165 [==============================] - 0s 1ms/step - loss: 0.3368 - accuracy: 0.8471\n",
      "Epoch 79/100\n",
      "165/165 [==============================] - 0s 1ms/step - loss: 0.3479 - accuracy: 0.8346\n",
      "Epoch 80/100\n",
      "165/165 [==============================] - 0s 2ms/step - loss: 0.3447 - accuracy: 0.8404\n",
      "Epoch 81/100\n"
     ]
    },
    {
     "name": "stdout",
     "output_type": "stream",
     "text": [
      "165/165 [==============================] - 0s 1ms/step - loss: 0.3476 - accuracy: 0.8391\n",
      "Epoch 82/100\n",
      "165/165 [==============================] - 0s 1ms/step - loss: 0.3336 - accuracy: 0.8474\n",
      "Epoch 83/100\n",
      "165/165 [==============================] - 0s 1ms/step - loss: 0.3293 - accuracy: 0.8482\n",
      "Epoch 84/100\n",
      "165/165 [==============================] - 0s 2ms/step - loss: 0.3393 - accuracy: 0.8456\n",
      "Epoch 85/100\n",
      "165/165 [==============================] - 0s 2ms/step - loss: 0.3273 - accuracy: 0.8454\n",
      "Epoch 86/100\n",
      "165/165 [==============================] - 0s 2ms/step - loss: 0.3300 - accuracy: 0.8487\n",
      "Epoch 87/100\n",
      "165/165 [==============================] - 0s 2ms/step - loss: 0.3387 - accuracy: 0.8461\n",
      "Epoch 88/100\n",
      "165/165 [==============================] - 0s 2ms/step - loss: 0.3428 - accuracy: 0.8396\n",
      "Epoch 89/100\n",
      "165/165 [==============================] - 0s 2ms/step - loss: 0.3345 - accuracy: 0.8463\n",
      "Epoch 90/100\n",
      "165/165 [==============================] - 0s 2ms/step - loss: 0.3289 - accuracy: 0.8539\n",
      "Epoch 91/100\n",
      "165/165 [==============================] - 0s 2ms/step - loss: 0.3428 - accuracy: 0.8430\n",
      "Epoch 92/100\n",
      "165/165 [==============================] - 0s 2ms/step - loss: 0.3457 - accuracy: 0.8388\n",
      "Epoch 93/100\n",
      "165/165 [==============================] - 0s 2ms/step - loss: 0.3410 - accuracy: 0.8452\n",
      "Epoch 94/100\n",
      "165/165 [==============================] - 0s 1ms/step - loss: 0.3316 - accuracy: 0.8456\n",
      "Epoch 95/100\n",
      "165/165 [==============================] - 0s 2ms/step - loss: 0.3328 - accuracy: 0.8435\n",
      "Epoch 96/100\n",
      "165/165 [==============================] - 0s 1ms/step - loss: 0.3326 - accuracy: 0.8419\n",
      "Epoch 97/100\n",
      "165/165 [==============================] - 0s 1ms/step - loss: 0.3339 - accuracy: 0.8399\n",
      "Epoch 98/100\n",
      "165/165 [==============================] - 0s 1ms/step - loss: 0.3336 - accuracy: 0.8421\n",
      "Epoch 99/100\n",
      "165/165 [==============================] - 0s 1ms/step - loss: 0.3262 - accuracy: 0.8455\n",
      "Epoch 100/100\n",
      "165/165 [==============================] - 0s 2ms/step - loss: 0.3339 - accuracy: 0.8471\n",
      "55/55 [==============================] - 0s 1ms/step - loss: 0.4924 - accuracy: 0.7668\n",
      "[0.49236801266670227, 0.766780436038971]\n",
      "Classification Report :\n",
      "               precision    recall  f1-score   support\n",
      "\n",
      "           0       0.82      0.87      0.84      1267\n",
      "           1       0.60      0.51      0.55       491\n",
      "\n",
      "    accuracy                           0.77      1758\n",
      "   macro avg       0.71      0.69      0.70      1758\n",
      "weighted avg       0.76      0.77      0.76      1758\n",
      "\n"
     ]
    }
   ],
   "source": [
    "y_preds = ANN(X_train, y_train, X_test, y_test, 'binary_crossentropy', -1)"
   ]
  },
  {
   "cell_type": "code",
   "execution_count": 39,
   "metadata": {},
   "outputs": [],
   "source": [
    "#class count\n",
    "count_class_0, count_class_1 = df1.Churn.value_counts()\n",
    "\n",
    "#df divided by class\n",
    "df_class_0  = df2[df2['Churn']==0]\n",
    "df_class_1  = df2[df2['Churn']==1]"
   ]
  },
  {
   "cell_type": "code",
   "execution_count": 40,
   "metadata": {},
   "outputs": [
    {
     "data": {
      "text/plain": [
       "((5163, 27), (1869, 27))"
      ]
     },
     "execution_count": 40,
     "metadata": {},
     "output_type": "execute_result"
    }
   ],
   "source": [
    "df_class_0.shape, df_class_1.shape #imbalance "
   ]
  },
  {
   "cell_type": "markdown",
   "metadata": {},
   "source": [
    "# 1.Undersampling"
   ]
  },
  {
   "cell_type": "code",
   "execution_count": 41,
   "metadata": {},
   "outputs": [
    {
     "name": "stdout",
     "output_type": "stream",
     "text": [
      "Random under sampling\n",
      "1    1869\n",
      "0    1869\n",
      "Name: Churn, dtype: int64\n"
     ]
    }
   ],
   "source": [
    "\n",
    "df_class_0_under = df_class_0.sample(count_class_1)\n",
    "\n",
    "df_test_under = pd.concat([df_class_0_under, df_class_1], axis = 0)\n",
    "\n",
    "print(\"Random under sampling\")\n",
    "print(df_test_under.Churn.value_counts())"
   ]
  },
  {
   "cell_type": "code",
   "execution_count": 42,
   "metadata": {},
   "outputs": [],
   "source": [
    "#train and test data\n",
    "\n",
    "X = df_test_under.drop('Churn', axis = 'columns')\n",
    "y = df_test_under.Churn\n",
    "\n",
    "from sklearn.model_selection import train_test_split\n",
    "\n",
    "X_train, X_test, y_train, y_test = train_test_split(X,y, test_size = 0.2, random_state = 15, stratify = y) \n",
    "\n",
    "#stratify to distribute samples equally like only X_train don't have all truth sample\n"
   ]
  },
  {
   "cell_type": "code",
   "execution_count": 43,
   "metadata": {},
   "outputs": [
    {
     "name": "stdout",
     "output_type": "stream",
     "text": [
      "Epoch 1/100\n",
      "94/94 [==============================] - 1s 2ms/step - loss: 0.6549 - accuracy: 0.6250\n",
      "Epoch 2/100\n",
      "94/94 [==============================] - 0s 2ms/step - loss: 0.5398 - accuracy: 0.7525\n",
      "Epoch 3/100\n",
      "94/94 [==============================] - 0s 2ms/step - loss: 0.5061 - accuracy: 0.7586\n",
      "Epoch 4/100\n",
      "94/94 [==============================] - 0s 2ms/step - loss: 0.4895 - accuracy: 0.7640\n",
      "Epoch 5/100\n",
      "94/94 [==============================] - 0s 2ms/step - loss: 0.4883 - accuracy: 0.7633\n",
      "Epoch 6/100\n",
      "94/94 [==============================] - 0s 2ms/step - loss: 0.5071 - accuracy: 0.7482\n",
      "Epoch 7/100\n",
      "94/94 [==============================] - 0s 2ms/step - loss: 0.4855 - accuracy: 0.7648\n",
      "Epoch 8/100\n",
      "94/94 [==============================] - 0s 2ms/step - loss: 0.4915 - accuracy: 0.7691\n",
      "Epoch 9/100\n",
      "94/94 [==============================] - 0s 2ms/step - loss: 0.4672 - accuracy: 0.7754\n",
      "Epoch 10/100\n",
      "94/94 [==============================] - 0s 2ms/step - loss: 0.4630 - accuracy: 0.7763\n",
      "Epoch 11/100\n",
      "94/94 [==============================] - 0s 2ms/step - loss: 0.4700 - accuracy: 0.7769\n",
      "Epoch 12/100\n",
      "94/94 [==============================] - 0s 2ms/step - loss: 0.4926 - accuracy: 0.7638\n",
      "Epoch 13/100\n",
      "94/94 [==============================] - 0s 2ms/step - loss: 0.4791 - accuracy: 0.7627\n",
      "Epoch 14/100\n",
      "94/94 [==============================] - 0s 2ms/step - loss: 0.4738 - accuracy: 0.7720\n",
      "Epoch 15/100\n",
      "94/94 [==============================] - 0s 2ms/step - loss: 0.4677 - accuracy: 0.7758\n",
      "Epoch 16/100\n",
      "94/94 [==============================] - 0s 2ms/step - loss: 0.4851 - accuracy: 0.7673\n",
      "Epoch 17/100\n",
      "94/94 [==============================] - 0s 2ms/step - loss: 0.4873 - accuracy: 0.7627\n",
      "Epoch 18/100\n",
      "94/94 [==============================] - 0s 2ms/step - loss: 0.4681 - accuracy: 0.7761\n",
      "Epoch 19/100\n",
      "94/94 [==============================] - 0s 2ms/step - loss: 0.4833 - accuracy: 0.7656\n",
      "Epoch 20/100\n",
      "94/94 [==============================] - 0s 2ms/step - loss: 0.4443 - accuracy: 0.7857\n",
      "Epoch 21/100\n",
      "94/94 [==============================] - 0s 2ms/step - loss: 0.4679 - accuracy: 0.7718\n",
      "Epoch 22/100\n",
      "94/94 [==============================] - 0s 2ms/step - loss: 0.4754 - accuracy: 0.7721\n",
      "Epoch 23/100\n",
      "94/94 [==============================] - 0s 1ms/step - loss: 0.4612 - accuracy: 0.7806\n",
      "Epoch 24/100\n",
      "94/94 [==============================] - 0s 2ms/step - loss: 0.4696 - accuracy: 0.7726\n",
      "Epoch 25/100\n",
      "94/94 [==============================] - 0s 2ms/step - loss: 0.4586 - accuracy: 0.7824\n",
      "Epoch 26/100\n",
      "94/94 [==============================] - 0s 2ms/step - loss: 0.4573 - accuracy: 0.7744\n",
      "Epoch 27/100\n",
      "94/94 [==============================] - 0s 2ms/step - loss: 0.4612 - accuracy: 0.7758\n",
      "Epoch 28/100\n",
      "94/94 [==============================] - 0s 1ms/step - loss: 0.4659 - accuracy: 0.7696\n",
      "Epoch 29/100\n",
      "94/94 [==============================] - 0s 2ms/step - loss: 0.4638 - accuracy: 0.7713\n",
      "Epoch 30/100\n",
      "94/94 [==============================] - 0s 2ms/step - loss: 0.4610 - accuracy: 0.7737\n",
      "Epoch 31/100\n",
      "94/94 [==============================] - 0s 1ms/step - loss: 0.4554 - accuracy: 0.7775\n",
      "Epoch 32/100\n",
      "94/94 [==============================] - 0s 2ms/step - loss: 0.4667 - accuracy: 0.7754\n",
      "Epoch 33/100\n",
      "94/94 [==============================] - 0s 1ms/step - loss: 0.4516 - accuracy: 0.7910\n",
      "Epoch 34/100\n",
      "94/94 [==============================] - 0s 2ms/step - loss: 0.4443 - accuracy: 0.7907\n",
      "Epoch 35/100\n",
      "94/94 [==============================] - 0s 1ms/step - loss: 0.4435 - accuracy: 0.7819\n",
      "Epoch 36/100\n",
      "94/94 [==============================] - 0s 2ms/step - loss: 0.4597 - accuracy: 0.7824\n",
      "Epoch 37/100\n",
      "94/94 [==============================] - 0s 2ms/step - loss: 0.4638 - accuracy: 0.7732\n",
      "Epoch 38/100\n",
      "94/94 [==============================] - 0s 1ms/step - loss: 0.4452 - accuracy: 0.7867\n",
      "Epoch 39/100\n",
      "94/94 [==============================] - 0s 2ms/step - loss: 0.4533 - accuracy: 0.7847\n",
      "Epoch 40/100\n",
      "94/94 [==============================] - 0s 2ms/step - loss: 0.4466 - accuracy: 0.7884\n",
      "Epoch 41/100\n",
      "94/94 [==============================] - 0s 2ms/step - loss: 0.4630 - accuracy: 0.7684\n",
      "Epoch 42/100\n",
      "94/94 [==============================] - 0s 2ms/step - loss: 0.4358 - accuracy: 0.7895\n",
      "Epoch 43/100\n",
      "94/94 [==============================] - 0s 2ms/step - loss: 0.4438 - accuracy: 0.7905\n",
      "Epoch 44/100\n",
      "94/94 [==============================] - 0s 2ms/step - loss: 0.4361 - accuracy: 0.7946\n",
      "Epoch 45/100\n",
      "94/94 [==============================] - 0s 2ms/step - loss: 0.4554 - accuracy: 0.7764\n",
      "Epoch 46/100\n",
      "94/94 [==============================] - 0s 2ms/step - loss: 0.4410 - accuracy: 0.7781\n",
      "Epoch 47/100\n",
      "94/94 [==============================] - 0s 2ms/step - loss: 0.4399 - accuracy: 0.7977\n",
      "Epoch 48/100\n",
      "94/94 [==============================] - 0s 2ms/step - loss: 0.4362 - accuracy: 0.7933\n",
      "Epoch 49/100\n",
      "94/94 [==============================] - 0s 1ms/step - loss: 0.4343 - accuracy: 0.7928\n",
      "Epoch 50/100\n",
      "94/94 [==============================] - 0s 2ms/step - loss: 0.4376 - accuracy: 0.7879\n",
      "Epoch 51/100\n",
      "94/94 [==============================] - 0s 2ms/step - loss: 0.4289 - accuracy: 0.7952\n",
      "Epoch 52/100\n",
      "94/94 [==============================] - 0s 2ms/step - loss: 0.4162 - accuracy: 0.8034\n",
      "Epoch 53/100\n",
      "94/94 [==============================] - 0s 2ms/step - loss: 0.4495 - accuracy: 0.7871\n",
      "Epoch 54/100\n",
      "94/94 [==============================] - 0s 2ms/step - loss: 0.4460 - accuracy: 0.7898\n",
      "Epoch 55/100\n",
      "94/94 [==============================] - 0s 2ms/step - loss: 0.4360 - accuracy: 0.7882\n",
      "Epoch 56/100\n",
      "94/94 [==============================] - 0s 2ms/step - loss: 0.4324 - accuracy: 0.7807\n",
      "Epoch 57/100\n",
      "94/94 [==============================] - 0s 2ms/step - loss: 0.4477 - accuracy: 0.7823\n",
      "Epoch 58/100\n",
      "94/94 [==============================] - 0s 2ms/step - loss: 0.4377 - accuracy: 0.7861\n",
      "Epoch 59/100\n",
      "94/94 [==============================] - 0s 2ms/step - loss: 0.4373 - accuracy: 0.7897\n",
      "Epoch 60/100\n",
      "94/94 [==============================] - 0s 2ms/step - loss: 0.4336 - accuracy: 0.7950\n",
      "Epoch 61/100\n",
      "94/94 [==============================] - 0s 1ms/step - loss: 0.4219 - accuracy: 0.8107\n",
      "Epoch 62/100\n",
      "94/94 [==============================] - 0s 2ms/step - loss: 0.4189 - accuracy: 0.8120\n",
      "Epoch 63/100\n",
      "94/94 [==============================] - 0s 1ms/step - loss: 0.4362 - accuracy: 0.7921\n",
      "Epoch 64/100\n",
      "94/94 [==============================] - 0s 2ms/step - loss: 0.4214 - accuracy: 0.8037\n",
      "Epoch 65/100\n",
      "94/94 [==============================] - 0s 2ms/step - loss: 0.4176 - accuracy: 0.8029\n",
      "Epoch 66/100\n",
      "94/94 [==============================] - 0s 2ms/step - loss: 0.4353 - accuracy: 0.7902\n",
      "Epoch 67/100\n",
      "94/94 [==============================] - 0s 2ms/step - loss: 0.3981 - accuracy: 0.8150\n",
      "Epoch 68/100\n",
      "94/94 [==============================] - 0s 2ms/step - loss: 0.4290 - accuracy: 0.7960\n",
      "Epoch 69/100\n",
      "94/94 [==============================] - 0s 2ms/step - loss: 0.4205 - accuracy: 0.7942\n",
      "Epoch 70/100\n",
      "94/94 [==============================] - 0s 2ms/step - loss: 0.4239 - accuracy: 0.7989\n",
      "Epoch 71/100\n",
      "94/94 [==============================] - 0s 2ms/step - loss: 0.4199 - accuracy: 0.8016\n",
      "Epoch 72/100\n",
      "94/94 [==============================] - 0s 2ms/step - loss: 0.4250 - accuracy: 0.8082\n",
      "Epoch 73/100\n",
      "94/94 [==============================] - 0s 2ms/step - loss: 0.4158 - accuracy: 0.8027\n",
      "Epoch 74/100\n",
      "94/94 [==============================] - 0s 2ms/step - loss: 0.4144 - accuracy: 0.8015\n",
      "Epoch 75/100\n",
      "94/94 [==============================] - 0s 2ms/step - loss: 0.4233 - accuracy: 0.8023\n",
      "Epoch 76/100\n",
      "94/94 [==============================] - 0s 2ms/step - loss: 0.4196 - accuracy: 0.8014\n",
      "Epoch 77/100\n",
      "94/94 [==============================] - 0s 2ms/step - loss: 0.4294 - accuracy: 0.7994\n",
      "Epoch 78/100\n",
      "94/94 [==============================] - 0s 2ms/step - loss: 0.3988 - accuracy: 0.8140\n",
      "Epoch 79/100\n",
      "94/94 [==============================] - 0s 2ms/step - loss: 0.4156 - accuracy: 0.8080\n",
      "Epoch 80/100\n",
      "94/94 [==============================] - 0s 1ms/step - loss: 0.4202 - accuracy: 0.8009\n",
      "Epoch 81/100\n",
      "94/94 [==============================] - 0s 2ms/step - loss: 0.4224 - accuracy: 0.7960\n",
      "Epoch 82/100\n",
      "94/94 [==============================] - 0s 2ms/step - loss: 0.3999 - accuracy: 0.8178\n",
      "Epoch 83/100\n"
     ]
    },
    {
     "name": "stdout",
     "output_type": "stream",
     "text": [
      "94/94 [==============================] - 0s 2ms/step - loss: 0.4057 - accuracy: 0.8078\n",
      "Epoch 84/100\n",
      "94/94 [==============================] - 0s 1ms/step - loss: 0.4062 - accuracy: 0.8203\n",
      "Epoch 85/100\n",
      "94/94 [==============================] - 0s 1ms/step - loss: 0.4187 - accuracy: 0.8055\n",
      "Epoch 86/100\n",
      "94/94 [==============================] - 0s 1ms/step - loss: 0.4112 - accuracy: 0.7969\n",
      "Epoch 87/100\n",
      "94/94 [==============================] - 0s 1ms/step - loss: 0.4004 - accuracy: 0.8056\n",
      "Epoch 88/100\n",
      "94/94 [==============================] - 0s 1ms/step - loss: 0.4030 - accuracy: 0.8097\n",
      "Epoch 89/100\n",
      "94/94 [==============================] - 0s 1ms/step - loss: 0.4094 - accuracy: 0.8093\n",
      "Epoch 90/100\n",
      "94/94 [==============================] - 0s 1ms/step - loss: 0.4136 - accuracy: 0.8075\n",
      "Epoch 91/100\n",
      "94/94 [==============================] - 0s 1ms/step - loss: 0.4176 - accuracy: 0.7973\n",
      "Epoch 92/100\n",
      "94/94 [==============================] - 0s 1ms/step - loss: 0.3984 - accuracy: 0.8147\n",
      "Epoch 93/100\n",
      "94/94 [==============================] - 0s 2ms/step - loss: 0.4026 - accuracy: 0.8136\n",
      "Epoch 94/100\n",
      "94/94 [==============================] - 0s 1ms/step - loss: 0.4138 - accuracy: 0.8047\n",
      "Epoch 95/100\n",
      "94/94 [==============================] - 0s 1ms/step - loss: 0.4017 - accuracy: 0.8122\n",
      "Epoch 96/100\n",
      "94/94 [==============================] - 0s 1ms/step - loss: 0.4034 - accuracy: 0.8114\n",
      "Epoch 97/100\n",
      "94/94 [==============================] - 0s 1ms/step - loss: 0.3979 - accuracy: 0.8024\n",
      "Epoch 98/100\n",
      "94/94 [==============================] - 0s 1ms/step - loss: 0.4049 - accuracy: 0.8056\n",
      "Epoch 99/100\n",
      "94/94 [==============================] - 0s 1ms/step - loss: 0.3986 - accuracy: 0.8201\n",
      "Epoch 100/100\n",
      "94/94 [==============================] - 0s 1ms/step - loss: 0.4120 - accuracy: 0.7995\n",
      "24/24 [==============================] - 1s 1ms/step - loss: 0.5361 - accuracy: 0.7594\n",
      "[0.5360643863677979, 0.759358286857605]\n",
      "Classification Report :\n",
      "               precision    recall  f1-score   support\n",
      "\n",
      "           0       0.76      0.77      0.76       374\n",
      "           1       0.76      0.75      0.76       374\n",
      "\n",
      "    accuracy                           0.76       748\n",
      "   macro avg       0.76      0.76      0.76       748\n",
      "weighted avg       0.76      0.76      0.76       748\n",
      "\n"
     ]
    }
   ],
   "source": [
    "y_preds = ANN(X_train, y_train, X_test, y_test, 'binary_crossentropy', -1)"
   ]
  },
  {
   "cell_type": "markdown",
   "metadata": {},
   "source": [
    "# 2.OverSampling"
   ]
  },
  {
   "cell_type": "code",
   "execution_count": 44,
   "metadata": {},
   "outputs": [
    {
     "data": {
      "text/plain": [
       "(5163, 1869)"
      ]
     },
     "execution_count": 44,
     "metadata": {},
     "output_type": "execute_result"
    }
   ],
   "source": [
    "count_class_0, count_class_1"
   ]
  },
  {
   "cell_type": "code",
   "execution_count": 46,
   "metadata": {},
   "outputs": [
    {
     "data": {
      "text/plain": [
       "(1869, 27)"
      ]
     },
     "execution_count": 46,
     "metadata": {},
     "output_type": "execute_result"
    }
   ],
   "source": [
    "df_class_1.shape"
   ]
  },
  {
   "cell_type": "code",
   "execution_count": 52,
   "metadata": {},
   "outputs": [
    {
     "data": {
      "text/plain": [
       "((5163, 27), (5163, 27))"
      ]
     },
     "execution_count": 52,
     "metadata": {},
     "output_type": "execute_result"
    }
   ],
   "source": [
    "df_class_1_over = df_class_1.sample(count_class_0,replace = True)#this line will make copies of class 1 values randomly to make equal to class 0\n",
    "df_class_0.shape, df_class_1_over.shape"
   ]
  },
  {
   "cell_type": "code",
   "execution_count": 53,
   "metadata": {},
   "outputs": [
    {
     "data": {
      "text/plain": [
       "(10326, 27)"
      ]
     },
     "execution_count": 53,
     "metadata": {},
     "output_type": "execute_result"
    }
   ],
   "source": [
    "df_test_over = pd.concat([df_class_0, df_class_1_over],axis = 0)\n",
    "df_test_over.shape"
   ]
  },
  {
   "cell_type": "code",
   "execution_count": 54,
   "metadata": {},
   "outputs": [],
   "source": [
    "#train and test data\n",
    "\n",
    "X = df_test_over.drop('Churn', axis = 'columns')\n",
    "y = df_test_over.Churn\n",
    "\n",
    "from sklearn.model_selection import train_test_split\n",
    "\n",
    "X_train, X_test, y_train, y_test = train_test_split(X,y, test_size = 0.2, random_state = 15, stratify = y) \n",
    "\n",
    "#stratify to distribute samples equally like only X_train don't have all truth sample"
   ]
  },
  {
   "cell_type": "code",
   "execution_count": 55,
   "metadata": {},
   "outputs": [
    {
     "name": "stdout",
     "output_type": "stream",
     "text": [
      "Epoch 1/100\n",
      "259/259 [==============================] - 1s 2ms/step - loss: 0.5826 - accuracy: 0.7022\n",
      "Epoch 2/100\n",
      "259/259 [==============================] - 0s 2ms/step - loss: 0.4931 - accuracy: 0.7622\n",
      "Epoch 3/100\n",
      "259/259 [==============================] - 0s 2ms/step - loss: 0.4847 - accuracy: 0.7687\n",
      "Epoch 4/100\n",
      "259/259 [==============================] - 0s 2ms/step - loss: 0.4846 - accuracy: 0.7664\n",
      "Epoch 5/100\n",
      "259/259 [==============================] - 0s 2ms/step - loss: 0.4760 - accuracy: 0.7670\n",
      "Epoch 6/100\n",
      "259/259 [==============================] - 0s 2ms/step - loss: 0.4724 - accuracy: 0.7790\n",
      "Epoch 7/100\n",
      "259/259 [==============================] - 0s 2ms/step - loss: 0.4794 - accuracy: 0.7653\n",
      "Epoch 8/100\n",
      "259/259 [==============================] - 0s 2ms/step - loss: 0.4654 - accuracy: 0.7743\n",
      "Epoch 9/100\n",
      "259/259 [==============================] - 0s 2ms/step - loss: 0.4667 - accuracy: 0.7750\n",
      "Epoch 10/100\n",
      "259/259 [==============================] - 0s 2ms/step - loss: 0.4590 - accuracy: 0.7848\n",
      "Epoch 11/100\n",
      "259/259 [==============================] - 0s 2ms/step - loss: 0.4506 - accuracy: 0.7850\n",
      "Epoch 12/100\n",
      "259/259 [==============================] - 0s 2ms/step - loss: 0.4582 - accuracy: 0.7765\n",
      "Epoch 13/100\n",
      "259/259 [==============================] - 0s 2ms/step - loss: 0.4540 - accuracy: 0.7789\n",
      "Epoch 14/100\n",
      "259/259 [==============================] - 0s 2ms/step - loss: 0.4492 - accuracy: 0.7877\n",
      "Epoch 15/100\n",
      "259/259 [==============================] - 0s 2ms/step - loss: 0.4411 - accuracy: 0.7911\n",
      "Epoch 16/100\n",
      "259/259 [==============================] - 0s 2ms/step - loss: 0.4360 - accuracy: 0.7882\n",
      "Epoch 17/100\n",
      "259/259 [==============================] - 0s 2ms/step - loss: 0.4345 - accuracy: 0.7956\n",
      "Epoch 18/100\n",
      "259/259 [==============================] - 0s 2ms/step - loss: 0.4402 - accuracy: 0.7952\n",
      "Epoch 19/100\n",
      "259/259 [==============================] - 0s 2ms/step - loss: 0.4395 - accuracy: 0.7874\n",
      "Epoch 20/100\n",
      "259/259 [==============================] - 0s 2ms/step - loss: 0.4257 - accuracy: 0.8016\n",
      "Epoch 21/100\n",
      "259/259 [==============================] - 0s 2ms/step - loss: 0.4380 - accuracy: 0.7925\n",
      "Epoch 22/100\n",
      "259/259 [==============================] - 0s 2ms/step - loss: 0.4365 - accuracy: 0.7945\n",
      "Epoch 23/100\n",
      "259/259 [==============================] - 0s 2ms/step - loss: 0.4300 - accuracy: 0.8008\n",
      "Epoch 24/100\n",
      "259/259 [==============================] - 0s 2ms/step - loss: 0.4394 - accuracy: 0.7926\n",
      "Epoch 25/100\n",
      "259/259 [==============================] - 0s 2ms/step - loss: 0.4325 - accuracy: 0.7979\n",
      "Epoch 26/100\n",
      "259/259 [==============================] - 0s 2ms/step - loss: 0.4296 - accuracy: 0.7916\n",
      "Epoch 27/100\n",
      "259/259 [==============================] - 1s 2ms/step - loss: 0.4284 - accuracy: 0.7965\n",
      "Epoch 28/100\n",
      "259/259 [==============================] - 1s 2ms/step - loss: 0.4275 - accuracy: 0.7974\n",
      "Epoch 29/100\n",
      "259/259 [==============================] - 0s 2ms/step - loss: 0.4225 - accuracy: 0.8036\n",
      "Epoch 30/100\n",
      "259/259 [==============================] - 1s 2ms/step - loss: 0.4269 - accuracy: 0.7934\n",
      "Epoch 31/100\n",
      "259/259 [==============================] - 1s 2ms/step - loss: 0.4267 - accuracy: 0.8013\n",
      "Epoch 32/100\n",
      "259/259 [==============================] - 1s 2ms/step - loss: 0.4197 - accuracy: 0.8019\n",
      "Epoch 33/100\n",
      "259/259 [==============================] - 1s 2ms/step - loss: 0.4217 - accuracy: 0.8015\n",
      "Epoch 34/100\n",
      "259/259 [==============================] - 1s 2ms/step - loss: 0.4288 - accuracy: 0.8015\n",
      "Epoch 35/100\n",
      "259/259 [==============================] - 1s 2ms/step - loss: 0.4211 - accuracy: 0.8024\n",
      "Epoch 36/100\n",
      "259/259 [==============================] - 1s 2ms/step - loss: 0.4211 - accuracy: 0.7996\n",
      "Epoch 37/100\n",
      "259/259 [==============================] - 0s 2ms/step - loss: 0.4080 - accuracy: 0.8133\n",
      "Epoch 38/100\n",
      "259/259 [==============================] - 0s 2ms/step - loss: 0.4227 - accuracy: 0.8020\n",
      "Epoch 39/100\n",
      "259/259 [==============================] - 0s 2ms/step - loss: 0.4059 - accuracy: 0.8124\n",
      "Epoch 40/100\n",
      "259/259 [==============================] - 0s 2ms/step - loss: 0.4142 - accuracy: 0.8069: 0s - loss: 0.4102 - ac\n",
      "Epoch 41/100\n",
      "259/259 [==============================] - 0s 2ms/step - loss: 0.4053 - accuracy: 0.8160\n",
      "Epoch 42/100\n",
      "259/259 [==============================] - 0s 2ms/step - loss: 0.4061 - accuracy: 0.8105\n",
      "Epoch 43/100\n",
      "259/259 [==============================] - 0s 2ms/step - loss: 0.4206 - accuracy: 0.7977\n",
      "Epoch 44/100\n",
      "259/259 [==============================] - 0s 2ms/step - loss: 0.4085 - accuracy: 0.8061\n",
      "Epoch 45/100\n",
      "259/259 [==============================] - 0s 2ms/step - loss: 0.4161 - accuracy: 0.8023\n",
      "Epoch 46/100\n",
      "259/259 [==============================] - 0s 2ms/step - loss: 0.4061 - accuracy: 0.8106\n",
      "Epoch 47/100\n",
      "259/259 [==============================] - 0s 2ms/step - loss: 0.4191 - accuracy: 0.8032\n",
      "Epoch 48/100\n",
      "259/259 [==============================] - 0s 2ms/step - loss: 0.4061 - accuracy: 0.8118\n",
      "Epoch 49/100\n",
      "259/259 [==============================] - 0s 2ms/step - loss: 0.4129 - accuracy: 0.8086\n",
      "Epoch 50/100\n",
      "259/259 [==============================] - 0s 2ms/step - loss: 0.4158 - accuracy: 0.8055\n",
      "Epoch 51/100\n",
      "259/259 [==============================] - 0s 2ms/step - loss: 0.4046 - accuracy: 0.8131\n",
      "Epoch 52/100\n",
      "259/259 [==============================] - 0s 2ms/step - loss: 0.3911 - accuracy: 0.8159\n",
      "Epoch 53/100\n",
      "259/259 [==============================] - 0s 2ms/step - loss: 0.4047 - accuracy: 0.8109\n",
      "Epoch 54/100\n",
      "259/259 [==============================] - 0s 2ms/step - loss: 0.3906 - accuracy: 0.8164\n",
      "Epoch 55/100\n",
      "259/259 [==============================] - 0s 2ms/step - loss: 0.3967 - accuracy: 0.8161\n",
      "Epoch 56/100\n",
      "259/259 [==============================] - 0s 2ms/step - loss: 0.4044 - accuracy: 0.8166\n",
      "Epoch 57/100\n",
      "259/259 [==============================] - 0s 2ms/step - loss: 0.3985 - accuracy: 0.8155\n",
      "Epoch 58/100\n",
      "259/259 [==============================] - 0s 2ms/step - loss: 0.3961 - accuracy: 0.8139\n",
      "Epoch 59/100\n",
      "259/259 [==============================] - 0s 2ms/step - loss: 0.3982 - accuracy: 0.8108\n",
      "Epoch 60/100\n",
      "259/259 [==============================] - 0s 2ms/step - loss: 0.3989 - accuracy: 0.8148\n",
      "Epoch 61/100\n",
      "259/259 [==============================] - 0s 2ms/step - loss: 0.3901 - accuracy: 0.8206\n",
      "Epoch 62/100\n",
      "259/259 [==============================] - 0s 2ms/step - loss: 0.4052 - accuracy: 0.8075\n",
      "Epoch 63/100\n",
      "259/259 [==============================] - 0s 2ms/step - loss: 0.4019 - accuracy: 0.8147\n",
      "Epoch 64/100\n",
      "259/259 [==============================] - 0s 2ms/step - loss: 0.3978 - accuracy: 0.8132\n",
      "Epoch 65/100\n",
      "259/259 [==============================] - 0s 2ms/step - loss: 0.3891 - accuracy: 0.8205\n",
      "Epoch 66/100\n",
      "259/259 [==============================] - 0s 2ms/step - loss: 0.3992 - accuracy: 0.8121: 0s - loss: 0.4425 - \n",
      "Epoch 67/100\n",
      "259/259 [==============================] - 0s 2ms/step - loss: 0.3796 - accuracy: 0.8246\n",
      "Epoch 68/100\n",
      "259/259 [==============================] - 0s 2ms/step - loss: 0.3949 - accuracy: 0.8177\n",
      "Epoch 69/100\n",
      "259/259 [==============================] - 0s 2ms/step - loss: 0.3903 - accuracy: 0.8199\n",
      "Epoch 70/100\n",
      "259/259 [==============================] - 0s 2ms/step - loss: 0.3834 - accuracy: 0.8228\n",
      "Epoch 71/100\n",
      "259/259 [==============================] - 0s 2ms/step - loss: 0.3941 - accuracy: 0.8105\n",
      "Epoch 72/100\n",
      "259/259 [==============================] - 0s 2ms/step - loss: 0.3842 - accuracy: 0.8242\n",
      "Epoch 73/100\n",
      "259/259 [==============================] - 0s 2ms/step - loss: 0.3840 - accuracy: 0.8247\n",
      "Epoch 74/100\n",
      "259/259 [==============================] - 0s 2ms/step - loss: 0.3911 - accuracy: 0.8189\n",
      "Epoch 75/100\n",
      "259/259 [==============================] - 0s 2ms/step - loss: 0.3785 - accuracy: 0.8251\n",
      "Epoch 76/100\n",
      "259/259 [==============================] - 0s 2ms/step - loss: 0.3892 - accuracy: 0.8219\n",
      "Epoch 77/100\n",
      "259/259 [==============================] - 0s 2ms/step - loss: 0.3962 - accuracy: 0.8127\n",
      "Epoch 78/100\n",
      "259/259 [==============================] - 0s 2ms/step - loss: 0.3794 - accuracy: 0.8258\n",
      "Epoch 79/100\n",
      "259/259 [==============================] - 0s 2ms/step - loss: 0.3904 - accuracy: 0.8181\n",
      "Epoch 80/100\n",
      "259/259 [==============================] - 0s 2ms/step - loss: 0.3898 - accuracy: 0.8141\n"
     ]
    },
    {
     "name": "stdout",
     "output_type": "stream",
     "text": [
      "Epoch 81/100\n",
      "259/259 [==============================] - 0s 2ms/step - loss: 0.3825 - accuracy: 0.8191\n",
      "Epoch 82/100\n",
      "259/259 [==============================] - 0s 2ms/step - loss: 0.3852 - accuracy: 0.8223\n",
      "Epoch 83/100\n",
      "259/259 [==============================] - 0s 2ms/step - loss: 0.3770 - accuracy: 0.8246\n",
      "Epoch 84/100\n",
      "259/259 [==============================] - 0s 2ms/step - loss: 0.3799 - accuracy: 0.8240\n",
      "Epoch 85/100\n",
      "259/259 [==============================] - 0s 2ms/step - loss: 0.3744 - accuracy: 0.8310\n",
      "Epoch 86/100\n",
      "259/259 [==============================] - 0s 2ms/step - loss: 0.3889 - accuracy: 0.8204\n",
      "Epoch 87/100\n",
      "259/259 [==============================] - 0s 2ms/step - loss: 0.3740 - accuracy: 0.8265\n",
      "Epoch 88/100\n",
      "259/259 [==============================] - 0s 2ms/step - loss: 0.3745 - accuracy: 0.8257\n",
      "Epoch 89/100\n",
      "259/259 [==============================] - 0s 2ms/step - loss: 0.3721 - accuracy: 0.8266\n",
      "Epoch 90/100\n",
      "259/259 [==============================] - 0s 2ms/step - loss: 0.3923 - accuracy: 0.8164\n",
      "Epoch 91/100\n",
      "259/259 [==============================] - 0s 2ms/step - loss: 0.3805 - accuracy: 0.8204\n",
      "Epoch 92/100\n",
      "259/259 [==============================] - 0s 2ms/step - loss: 0.3701 - accuracy: 0.8313\n",
      "Epoch 93/100\n",
      "259/259 [==============================] - 0s 2ms/step - loss: 0.3719 - accuracy: 0.8247\n",
      "Epoch 94/100\n",
      "259/259 [==============================] - 0s 2ms/step - loss: 0.3780 - accuracy: 0.8222\n",
      "Epoch 95/100\n",
      "259/259 [==============================] - 0s 2ms/step - loss: 0.3690 - accuracy: 0.8201\n",
      "Epoch 96/100\n",
      "259/259 [==============================] - 0s 2ms/step - loss: 0.3811 - accuracy: 0.8215\n",
      "Epoch 97/100\n",
      "259/259 [==============================] - 0s 2ms/step - loss: 0.3665 - accuracy: 0.8352\n",
      "Epoch 98/100\n",
      "259/259 [==============================] - 0s 2ms/step - loss: 0.3735 - accuracy: 0.8335\n",
      "Epoch 99/100\n",
      "259/259 [==============================] - 0s 2ms/step - loss: 0.3727 - accuracy: 0.8292\n",
      "Epoch 100/100\n",
      "259/259 [==============================] - 0s 2ms/step - loss: 0.3628 - accuracy: 0.8412\n",
      "65/65 [==============================] - 0s 1ms/step - loss: 0.4841 - accuracy: 0.7740\n",
      "[0.48409542441368103, 0.7739593386650085]\n",
      "Classification Report :\n",
      "               precision    recall  f1-score   support\n",
      "\n",
      "           0       0.82      0.70      0.76      1033\n",
      "           1       0.74      0.84      0.79      1033\n",
      "\n",
      "    accuracy                           0.77      2066\n",
      "   macro avg       0.78      0.77      0.77      2066\n",
      "weighted avg       0.78      0.77      0.77      2066\n",
      "\n"
     ]
    }
   ],
   "source": [
    "y_preds = ANN(X_train, y_train, X_test, y_test, 'binary_crossentropy', -1)"
   ]
  },
  {
   "cell_type": "markdown",
   "metadata": {},
   "source": [
    "# 3.SMOTE"
   ]
  },
  {
   "cell_type": "code",
   "execution_count": 56,
   "metadata": {},
   "outputs": [],
   "source": [
    "X = df2.drop('Churn', axis = 'columns')\n",
    "y = df2.Churn\n"
   ]
  },
  {
   "cell_type": "code",
   "execution_count": 59,
   "metadata": {},
   "outputs": [
    {
     "ename": "ImportError",
     "evalue": "cannot import name 'delayed' from 'sklearn.utils.fixes' (C:\\ProgramData\\Anaconda3\\lib\\site-packages\\sklearn\\utils\\fixes.py)",
     "output_type": "error",
     "traceback": [
      "\u001b[1;31m---------------------------------------------------------------------------\u001b[0m",
      "\u001b[1;31mImportError\u001b[0m                               Traceback (most recent call last)",
      "\u001b[1;32m<ipython-input-59-0b052d41b57a>\u001b[0m in \u001b[0;36m<module>\u001b[1;34m\u001b[0m\n\u001b[1;32m----> 1\u001b[1;33m \u001b[1;32mfrom\u001b[0m \u001b[0mimblearn\u001b[0m\u001b[1;33m.\u001b[0m\u001b[0mover_sampling\u001b[0m \u001b[1;32mimport\u001b[0m \u001b[0mSMOTE\u001b[0m\u001b[1;33m\u001b[0m\u001b[1;33m\u001b[0m\u001b[0m\n\u001b[0m",
      "\u001b[1;32mC:\\ProgramData\\Anaconda3\\lib\\site-packages\\imblearn\\__init__.py\u001b[0m in \u001b[0;36m<module>\u001b[1;34m\u001b[0m\n\u001b[0;32m     35\u001b[0m \u001b[1;32mimport\u001b[0m \u001b[0mtypes\u001b[0m\u001b[1;33m\u001b[0m\u001b[1;33m\u001b[0m\u001b[0m\n\u001b[0;32m     36\u001b[0m \u001b[1;33m\u001b[0m\u001b[0m\n\u001b[1;32m---> 37\u001b[1;33m \u001b[1;32mfrom\u001b[0m \u001b[1;33m.\u001b[0m \u001b[1;32mimport\u001b[0m \u001b[0mcombine\u001b[0m\u001b[1;33m\u001b[0m\u001b[1;33m\u001b[0m\u001b[0m\n\u001b[0m\u001b[0;32m     38\u001b[0m \u001b[1;32mfrom\u001b[0m \u001b[1;33m.\u001b[0m \u001b[1;32mimport\u001b[0m \u001b[0mensemble\u001b[0m\u001b[1;33m\u001b[0m\u001b[1;33m\u001b[0m\u001b[0m\n\u001b[0;32m     39\u001b[0m \u001b[1;32mfrom\u001b[0m \u001b[1;33m.\u001b[0m \u001b[1;32mimport\u001b[0m \u001b[0mexceptions\u001b[0m\u001b[1;33m\u001b[0m\u001b[1;33m\u001b[0m\u001b[0m\n",
      "\u001b[1;32mC:\\ProgramData\\Anaconda3\\lib\\site-packages\\imblearn\\combine\\__init__.py\u001b[0m in \u001b[0;36m<module>\u001b[1;34m\u001b[0m\n\u001b[0;32m      3\u001b[0m \"\"\"\n\u001b[0;32m      4\u001b[0m \u001b[1;33m\u001b[0m\u001b[0m\n\u001b[1;32m----> 5\u001b[1;33m \u001b[1;32mfrom\u001b[0m \u001b[1;33m.\u001b[0m\u001b[0m_smote_enn\u001b[0m \u001b[1;32mimport\u001b[0m \u001b[0mSMOTEENN\u001b[0m\u001b[1;33m\u001b[0m\u001b[1;33m\u001b[0m\u001b[0m\n\u001b[0m\u001b[0;32m      6\u001b[0m \u001b[1;32mfrom\u001b[0m \u001b[1;33m.\u001b[0m\u001b[0m_smote_tomek\u001b[0m \u001b[1;32mimport\u001b[0m \u001b[0mSMOTETomek\u001b[0m\u001b[1;33m\u001b[0m\u001b[1;33m\u001b[0m\u001b[0m\n\u001b[0;32m      7\u001b[0m \u001b[1;33m\u001b[0m\u001b[0m\n",
      "\u001b[1;32mC:\\ProgramData\\Anaconda3\\lib\\site-packages\\imblearn\\combine\\_smote_enn.py\u001b[0m in \u001b[0;36m<module>\u001b[1;34m\u001b[0m\n\u001b[0;32m      8\u001b[0m \u001b[1;32mfrom\u001b[0m \u001b[0msklearn\u001b[0m\u001b[1;33m.\u001b[0m\u001b[0mutils\u001b[0m \u001b[1;32mimport\u001b[0m \u001b[0mcheck_X_y\u001b[0m\u001b[1;33m\u001b[0m\u001b[1;33m\u001b[0m\u001b[0m\n\u001b[0;32m      9\u001b[0m \u001b[1;33m\u001b[0m\u001b[0m\n\u001b[1;32m---> 10\u001b[1;33m \u001b[1;32mfrom\u001b[0m \u001b[1;33m.\u001b[0m\u001b[1;33m.\u001b[0m\u001b[0mbase\u001b[0m \u001b[1;32mimport\u001b[0m \u001b[0mBaseSampler\u001b[0m\u001b[1;33m\u001b[0m\u001b[1;33m\u001b[0m\u001b[0m\n\u001b[0m\u001b[0;32m     11\u001b[0m \u001b[1;32mfrom\u001b[0m \u001b[1;33m.\u001b[0m\u001b[1;33m.\u001b[0m\u001b[0mover_sampling\u001b[0m \u001b[1;32mimport\u001b[0m \u001b[0mSMOTE\u001b[0m\u001b[1;33m\u001b[0m\u001b[1;33m\u001b[0m\u001b[0m\n\u001b[0;32m     12\u001b[0m \u001b[1;32mfrom\u001b[0m \u001b[1;33m.\u001b[0m\u001b[1;33m.\u001b[0m\u001b[0mover_sampling\u001b[0m\u001b[1;33m.\u001b[0m\u001b[0mbase\u001b[0m \u001b[1;32mimport\u001b[0m \u001b[0mBaseOverSampler\u001b[0m\u001b[1;33m\u001b[0m\u001b[1;33m\u001b[0m\u001b[0m\n",
      "\u001b[1;32mC:\\ProgramData\\Anaconda3\\lib\\site-packages\\imblearn\\base.py\u001b[0m in \u001b[0;36m<module>\u001b[1;34m\u001b[0m\n\u001b[0;32m     13\u001b[0m \u001b[1;32mfrom\u001b[0m \u001b[0msklearn\u001b[0m\u001b[1;33m.\u001b[0m\u001b[0mutils\u001b[0m\u001b[1;33m.\u001b[0m\u001b[0mmulticlass\u001b[0m \u001b[1;32mimport\u001b[0m \u001b[0mcheck_classification_targets\u001b[0m\u001b[1;33m\u001b[0m\u001b[1;33m\u001b[0m\u001b[0m\n\u001b[0;32m     14\u001b[0m \u001b[1;33m\u001b[0m\u001b[0m\n\u001b[1;32m---> 15\u001b[1;33m \u001b[1;32mfrom\u001b[0m \u001b[1;33m.\u001b[0m\u001b[0mutils\u001b[0m \u001b[1;32mimport\u001b[0m \u001b[0mcheck_sampling_strategy\u001b[0m\u001b[1;33m,\u001b[0m \u001b[0mcheck_target_type\u001b[0m\u001b[1;33m\u001b[0m\u001b[1;33m\u001b[0m\u001b[0m\n\u001b[0m\u001b[0;32m     16\u001b[0m \u001b[1;32mfrom\u001b[0m \u001b[1;33m.\u001b[0m\u001b[0mutils\u001b[0m\u001b[1;33m.\u001b[0m\u001b[0m_validation\u001b[0m \u001b[1;32mimport\u001b[0m \u001b[0mArraysTransformer\u001b[0m\u001b[1;33m\u001b[0m\u001b[1;33m\u001b[0m\u001b[0m\n\u001b[0;32m     17\u001b[0m \u001b[1;32mfrom\u001b[0m \u001b[1;33m.\u001b[0m\u001b[0mutils\u001b[0m\u001b[1;33m.\u001b[0m\u001b[0m_validation\u001b[0m \u001b[1;32mimport\u001b[0m \u001b[0m_deprecate_positional_args\u001b[0m\u001b[1;33m\u001b[0m\u001b[1;33m\u001b[0m\u001b[0m\n",
      "\u001b[1;32mC:\\ProgramData\\Anaconda3\\lib\\site-packages\\imblearn\\utils\\__init__.py\u001b[0m in \u001b[0;36m<module>\u001b[1;34m\u001b[0m\n\u001b[0;32m      5\u001b[0m \u001b[1;32mfrom\u001b[0m \u001b[1;33m.\u001b[0m\u001b[0m_docstring\u001b[0m \u001b[1;32mimport\u001b[0m \u001b[0mSubstitution\u001b[0m\u001b[1;33m\u001b[0m\u001b[1;33m\u001b[0m\u001b[0m\n\u001b[0;32m      6\u001b[0m \u001b[1;33m\u001b[0m\u001b[0m\n\u001b[1;32m----> 7\u001b[1;33m \u001b[1;32mfrom\u001b[0m \u001b[1;33m.\u001b[0m\u001b[0m_validation\u001b[0m \u001b[1;32mimport\u001b[0m \u001b[0mcheck_neighbors_object\u001b[0m\u001b[1;33m\u001b[0m\u001b[1;33m\u001b[0m\u001b[0m\n\u001b[0m\u001b[0;32m      8\u001b[0m \u001b[1;32mfrom\u001b[0m \u001b[1;33m.\u001b[0m\u001b[0m_validation\u001b[0m \u001b[1;32mimport\u001b[0m \u001b[0mcheck_target_type\u001b[0m\u001b[1;33m\u001b[0m\u001b[1;33m\u001b[0m\u001b[0m\n\u001b[0;32m      9\u001b[0m \u001b[1;32mfrom\u001b[0m \u001b[1;33m.\u001b[0m\u001b[0m_validation\u001b[0m \u001b[1;32mimport\u001b[0m \u001b[0mcheck_sampling_strategy\u001b[0m\u001b[1;33m\u001b[0m\u001b[1;33m\u001b[0m\u001b[0m\n",
      "\u001b[1;32mC:\\ProgramData\\Anaconda3\\lib\\site-packages\\imblearn\\utils\\_validation.py\u001b[0m in \u001b[0;36m<module>\u001b[1;34m\u001b[0m\n\u001b[0;32m     13\u001b[0m \u001b[1;33m\u001b[0m\u001b[0m\n\u001b[0;32m     14\u001b[0m \u001b[1;32mfrom\u001b[0m \u001b[0msklearn\u001b[0m\u001b[1;33m.\u001b[0m\u001b[0mbase\u001b[0m \u001b[1;32mimport\u001b[0m \u001b[0mclone\u001b[0m\u001b[1;33m\u001b[0m\u001b[1;33m\u001b[0m\u001b[0m\n\u001b[1;32m---> 15\u001b[1;33m \u001b[1;32mfrom\u001b[0m \u001b[0msklearn\u001b[0m\u001b[1;33m.\u001b[0m\u001b[0mneighbors\u001b[0m\u001b[1;33m.\u001b[0m\u001b[0m_base\u001b[0m \u001b[1;32mimport\u001b[0m \u001b[0mKNeighborsMixin\u001b[0m\u001b[1;33m\u001b[0m\u001b[1;33m\u001b[0m\u001b[0m\n\u001b[0m\u001b[0;32m     16\u001b[0m \u001b[1;32mfrom\u001b[0m \u001b[0msklearn\u001b[0m\u001b[1;33m.\u001b[0m\u001b[0mneighbors\u001b[0m \u001b[1;32mimport\u001b[0m \u001b[0mNearestNeighbors\u001b[0m\u001b[1;33m\u001b[0m\u001b[1;33m\u001b[0m\u001b[0m\n\u001b[0;32m     17\u001b[0m \u001b[1;32mfrom\u001b[0m \u001b[0msklearn\u001b[0m\u001b[1;33m.\u001b[0m\u001b[0mutils\u001b[0m \u001b[1;32mimport\u001b[0m \u001b[0mcolumn_or_1d\u001b[0m\u001b[1;33m\u001b[0m\u001b[1;33m\u001b[0m\u001b[0m\n",
      "\u001b[1;32mC:\\ProgramData\\Anaconda3\\lib\\site-packages\\sklearn\\neighbors\\__init__.py\u001b[0m in \u001b[0;36m<module>\u001b[1;34m\u001b[0m\n\u001b[0;32m      7\u001b[0m \u001b[1;32mfrom\u001b[0m \u001b[1;33m.\u001b[0m\u001b[0m_kd_tree\u001b[0m \u001b[1;32mimport\u001b[0m \u001b[0mKDTree\u001b[0m\u001b[1;33m\u001b[0m\u001b[1;33m\u001b[0m\u001b[0m\n\u001b[0;32m      8\u001b[0m \u001b[1;32mfrom\u001b[0m \u001b[1;33m.\u001b[0m\u001b[0m_dist_metrics\u001b[0m \u001b[1;32mimport\u001b[0m \u001b[0mDistanceMetric\u001b[0m\u001b[1;33m\u001b[0m\u001b[1;33m\u001b[0m\u001b[0m\n\u001b[1;32m----> 9\u001b[1;33m \u001b[1;32mfrom\u001b[0m \u001b[1;33m.\u001b[0m\u001b[0m_graph\u001b[0m \u001b[1;32mimport\u001b[0m \u001b[0mkneighbors_graph\u001b[0m\u001b[1;33m,\u001b[0m \u001b[0mradius_neighbors_graph\u001b[0m\u001b[1;33m\u001b[0m\u001b[1;33m\u001b[0m\u001b[0m\n\u001b[0m\u001b[0;32m     10\u001b[0m \u001b[1;32mfrom\u001b[0m \u001b[1;33m.\u001b[0m\u001b[0m_graph\u001b[0m \u001b[1;32mimport\u001b[0m \u001b[0mKNeighborsTransformer\u001b[0m\u001b[1;33m,\u001b[0m \u001b[0mRadiusNeighborsTransformer\u001b[0m\u001b[1;33m\u001b[0m\u001b[1;33m\u001b[0m\u001b[0m\n\u001b[0;32m     11\u001b[0m \u001b[1;32mfrom\u001b[0m \u001b[1;33m.\u001b[0m\u001b[0m_unsupervised\u001b[0m \u001b[1;32mimport\u001b[0m \u001b[0mNearestNeighbors\u001b[0m\u001b[1;33m\u001b[0m\u001b[1;33m\u001b[0m\u001b[0m\n",
      "\u001b[1;32mC:\\ProgramData\\Anaconda3\\lib\\site-packages\\sklearn\\neighbors\\_graph.py\u001b[0m in \u001b[0;36m<module>\u001b[1;34m\u001b[0m\n\u001b[0;32m      5\u001b[0m \u001b[1;31m#\u001b[0m\u001b[1;33m\u001b[0m\u001b[1;33m\u001b[0m\u001b[1;33m\u001b[0m\u001b[0m\n\u001b[0;32m      6\u001b[0m \u001b[1;31m# License: BSD 3 clause (C) INRIA, University of Amsterdam\u001b[0m\u001b[1;33m\u001b[0m\u001b[1;33m\u001b[0m\u001b[1;33m\u001b[0m\u001b[0m\n\u001b[1;32m----> 7\u001b[1;33m \u001b[1;32mfrom\u001b[0m \u001b[1;33m.\u001b[0m\u001b[0m_base\u001b[0m \u001b[1;32mimport\u001b[0m \u001b[0mKNeighborsMixin\u001b[0m\u001b[1;33m,\u001b[0m \u001b[0mRadiusNeighborsMixin\u001b[0m\u001b[1;33m\u001b[0m\u001b[1;33m\u001b[0m\u001b[0m\n\u001b[0m\u001b[0;32m      8\u001b[0m \u001b[1;32mfrom\u001b[0m \u001b[1;33m.\u001b[0m\u001b[0m_base\u001b[0m \u001b[1;32mimport\u001b[0m \u001b[0mNeighborsBase\u001b[0m\u001b[1;33m\u001b[0m\u001b[1;33m\u001b[0m\u001b[0m\n\u001b[0;32m      9\u001b[0m \u001b[1;32mfrom\u001b[0m \u001b[1;33m.\u001b[0m\u001b[0m_unsupervised\u001b[0m \u001b[1;32mimport\u001b[0m \u001b[0mNearestNeighbors\u001b[0m\u001b[1;33m\u001b[0m\u001b[1;33m\u001b[0m\u001b[0m\n",
      "\u001b[1;32mC:\\ProgramData\\Anaconda3\\lib\\site-packages\\sklearn\\neighbors\\_base.py\u001b[0m in \u001b[0;36m<module>\u001b[1;34m\u001b[0m\n\u001b[0;32m     33\u001b[0m \u001b[1;32mfrom\u001b[0m \u001b[1;33m.\u001b[0m\u001b[1;33m.\u001b[0m\u001b[0mutils\u001b[0m\u001b[1;33m.\u001b[0m\u001b[0mvalidation\u001b[0m \u001b[1;32mimport\u001b[0m \u001b[0mcheck_is_fitted\u001b[0m\u001b[1;33m\u001b[0m\u001b[1;33m\u001b[0m\u001b[0m\n\u001b[0;32m     34\u001b[0m \u001b[1;32mfrom\u001b[0m \u001b[1;33m.\u001b[0m\u001b[1;33m.\u001b[0m\u001b[0mutils\u001b[0m\u001b[1;33m.\u001b[0m\u001b[0mvalidation\u001b[0m \u001b[1;32mimport\u001b[0m \u001b[0mcheck_non_negative\u001b[0m\u001b[1;33m\u001b[0m\u001b[1;33m\u001b[0m\u001b[0m\n\u001b[1;32m---> 35\u001b[1;33m \u001b[1;32mfrom\u001b[0m \u001b[1;33m.\u001b[0m\u001b[1;33m.\u001b[0m\u001b[0mutils\u001b[0m\u001b[1;33m.\u001b[0m\u001b[0mfixes\u001b[0m \u001b[1;32mimport\u001b[0m \u001b[0mdelayed\u001b[0m\u001b[1;33m\u001b[0m\u001b[1;33m\u001b[0m\u001b[0m\n\u001b[0m\u001b[0;32m     36\u001b[0m \u001b[1;32mfrom\u001b[0m \u001b[1;33m.\u001b[0m\u001b[1;33m.\u001b[0m\u001b[0mutils\u001b[0m\u001b[1;33m.\u001b[0m\u001b[0mfixes\u001b[0m \u001b[1;32mimport\u001b[0m \u001b[0mparse_version\u001b[0m\u001b[1;33m\u001b[0m\u001b[1;33m\u001b[0m\u001b[0m\n\u001b[0;32m     37\u001b[0m \u001b[1;32mfrom\u001b[0m \u001b[1;33m.\u001b[0m\u001b[1;33m.\u001b[0m\u001b[0mexceptions\u001b[0m \u001b[1;32mimport\u001b[0m \u001b[0mDataConversionWarning\u001b[0m\u001b[1;33m,\u001b[0m \u001b[0mEfficiencyWarning\u001b[0m\u001b[1;33m\u001b[0m\u001b[1;33m\u001b[0m\u001b[0m\n",
      "\u001b[1;31mImportError\u001b[0m: cannot import name 'delayed' from 'sklearn.utils.fixes' (C:\\ProgramData\\Anaconda3\\lib\\site-packages\\sklearn\\utils\\fixes.py)"
     ]
    }
   ],
   "source": [
    "from imblearn.over_sampling import SMOTE"
   ]
  }
 ],
 "metadata": {
  "kernelspec": {
   "display_name": "Python 3",
   "language": "python",
   "name": "python3"
  },
  "language_info": {
   "codemirror_mode": {
    "name": "ipython",
    "version": 3
   },
   "file_extension": ".py",
   "mimetype": "text/x-python",
   "name": "python",
   "nbconvert_exporter": "python",
   "pygments_lexer": "ipython3",
   "version": "3.8.3"
  }
 },
 "nbformat": 4,
 "nbformat_minor": 4
}
