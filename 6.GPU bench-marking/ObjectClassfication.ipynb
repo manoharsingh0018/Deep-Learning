{
 "cells": [
  {
   "cell_type": "code",
   "execution_count": 1,
   "metadata": {},
   "outputs": [],
   "source": [
    "import tensorflow as tf\n",
    "from tensorflow import keras\n",
    "import matplotlib.pyplot as plt\n",
    "import numpy as np\n",
    "\n",
    "#version Information\n",
    "#tensorlfow 2.4.1, python 3.8"
   ]
  },
  {
   "cell_type": "code",
   "execution_count": 4,
   "metadata": {},
   "outputs": [
    {
     "data": {
      "text/plain": [
       "[PhysicalDevice(name='/physical_device:CPU:0', device_type='CPU')]"
      ]
     },
     "execution_count": 4,
     "metadata": {},
     "output_type": "execute_result"
    }
   ],
   "source": [
    "tf.config.experimental.list_physical_devices()"
   ]
  },
  {
   "cell_type": "code",
   "execution_count": 5,
   "metadata": {},
   "outputs": [
    {
     "name": "stdout",
     "output_type": "stream",
     "text": [
      "Downloading data from https://www.cs.toronto.edu/~kriz/cifar-10-python.tar.gz\n",
      "170500096/170498071 [==============================] - 112s 1us/step\n"
     ]
    }
   ],
   "source": [
    "(X_train, y_train),(X_test, y_test) = tf.keras.datasets.cifar10.load_data()"
   ]
  },
  {
   "cell_type": "code",
   "execution_count": 6,
   "metadata": {},
   "outputs": [
    {
     "data": {
      "text/plain": [
       "(50000, 32, 32, 3)"
      ]
     },
     "execution_count": 6,
     "metadata": {},
     "output_type": "execute_result"
    }
   ],
   "source": [
    "X_train.shape"
   ]
  },
  {
   "cell_type": "code",
   "execution_count": 8,
   "metadata": {},
   "outputs": [
    {
     "data": {
      "image/png": "[encoded data removed]",
      "text/plain": [
       "<Figure size 720x72 with 1 Axes>"
      ]
     },
     "metadata": {
      "needs_background": "light"
     },
     "output_type": "display_data"
    }
   ],
   "source": [
    "def plot_sample(index):\n",
    "    plt.figure(figsize=(10,1))\n",
    "    plt.imshow(X_train[index])\n",
    "    \n",
    "plot_sample(1)"
   ]
  },
  {
   "cell_type": "code",
   "execution_count": 14,
   "metadata": {},
   "outputs": [
    {
     "data": {
      "text/plain": [
       "'deer'"
      ]
     },
     "execution_count": 14,
     "metadata": {},
     "output_type": "execute_result"
    }
   ],
   "source": [
    "classes = [\"airplane\", \"automobile\",\"bird\",\"cat\", \"deer\", \"dog\",\"frog\", \"horse\", \"ship\",\"truck\"]\n",
    "classes[y_train[3][0]]"
   ]
  },
  {
   "cell_type": "code",
   "execution_count": 15,
   "metadata": {},
   "outputs": [],
   "source": [
    "#normalising rgb values from 0 to 1\n",
    "X_train_scaled = X_train/255\n",
    "X_test_scaled = X_test/255"
   ]
  },
  {
   "cell_type": "code",
   "execution_count": 20,
   "metadata": {},
   "outputs": [
    {
     "data": {
      "text/plain": [
       "array([[0., 0., 0., 0., 0., 0., 1., 0., 0., 0.],\n",
       "       [0., 0., 0., 0., 0., 0., 0., 0., 0., 1.],\n",
       "       [0., 0., 0., 0., 0., 0., 0., 0., 0., 1.],\n",
       "       [0., 0., 0., 0., 1., 0., 0., 0., 0., 0.],\n",
       "       [0., 1., 0., 0., 0., 0., 0., 0., 0., 0.]], dtype=float32)"
      ]
     },
     "execution_count": 20,
     "metadata": {},
     "output_type": "execute_result"
    }
   ],
   "source": [
    "#one hot encoding\n",
    "y_train_categorical = keras.utils.to_categorical(\n",
    "    y_train, num_classes = 10, dtype = 'float32'\n",
    ")\n",
    "y_train_categorical[:5]"
   ]
  },
  {
   "cell_type": "code",
   "execution_count": 21,
   "metadata": {},
   "outputs": [
    {
     "data": {
      "text/plain": [
       "array([[0., 0., 0., 1., 0., 0., 0., 0., 0., 0.],\n",
       "       [0., 0., 0., 0., 0., 0., 0., 0., 1., 0.],\n",
       "       [0., 0., 0., 0., 0., 0., 0., 0., 1., 0.],\n",
       "       [1., 0., 0., 0., 0., 0., 0., 0., 0., 0.],\n",
       "       [0., 0., 0., 0., 0., 0., 1., 0., 0., 0.]], dtype=float32)"
      ]
     },
     "execution_count": 21,
     "metadata": {},
     "output_type": "execute_result"
    }
   ],
   "source": [
    "y_test_categorical = keras.utils.to_categorical(\n",
    "    y_test, num_classes = 10, dtype = 'float32'\n",
    ")\n",
    "y_test_categorical[:5]"
   ]
  },
  {
   "cell_type": "code",
   "execution_count": 24,
   "metadata": {},
   "outputs": [
    {
     "data": {
      "text/plain": [
       "3072"
      ]
     },
     "execution_count": 24,
     "metadata": {},
     "output_type": "execute_result"
    }
   ],
   "source": [
    "X_train_scaled.shape\n",
    "\n",
    "32*32*3"
   ]
  },
  {
   "cell_type": "code",
   "execution_count": 25,
   "metadata": {},
   "outputs": [
    {
     "name": "stdout",
     "output_type": "stream",
     "text": [
      "Epoch 1/50\n",
      "1563/1563 [==============================] - 114s 72ms/step - loss: 1.9313 - accuracy: 0.3090\n",
      "Epoch 2/50\n",
      "1563/1563 [==============================] - 111s 71ms/step - loss: 1.6437 - accuracy: 0.4175\n",
      "Epoch 3/50\n",
      "1563/1563 [==============================] - 111s 71ms/step - loss: 1.5513 - accuracy: 0.4505\n",
      "Epoch 4/50\n",
      "1563/1563 [==============================] - 111s 71ms/step - loss: 1.4859 - accuracy: 0.4760\n",
      "Epoch 5/50\n",
      "1563/1563 [==============================] - 112s 72ms/step - loss: 1.4407 - accuracy: 0.4947\n",
      "Epoch 6/50\n",
      "1563/1563 [==============================] - 121s 77ms/step - loss: 1.3862 - accuracy: 0.5139\n",
      "Epoch 7/50\n",
      "1563/1563 [==============================] - 112s 72ms/step - loss: 1.3566 - accuracy: 0.5261\n",
      "Epoch 8/50\n",
      "1563/1563 [==============================] - 112s 72ms/step - loss: 1.3198 - accuracy: 0.5370\n",
      "Epoch 9/50\n",
      "1563/1563 [==============================] - 112s 71ms/step - loss: 1.2773 - accuracy: 0.5532\n",
      "Epoch 10/50\n",
      "1563/1563 [==============================] - 112s 72ms/step - loss: 1.2487 - accuracy: 0.5665\n",
      "Epoch 11/50\n",
      "1563/1563 [==============================] - 112s 72ms/step - loss: 1.2236 - accuracy: 0.5710\n",
      "Epoch 12/50\n",
      "1563/1563 [==============================] - 109s 70ms/step - loss: 1.1971 - accuracy: 0.5822\n",
      "Epoch 13/50\n",
      "1563/1563 [==============================] - 111s 71ms/step - loss: 1.1609 - accuracy: 0.5967\n",
      "Epoch 14/50\n",
      "1563/1563 [==============================] - 112s 72ms/step - loss: 1.1382 - accuracy: 0.6013\n",
      "Epoch 15/50\n",
      "1563/1563 [==============================] - 113s 72ms/step - loss: 1.1073 - accuracy: 0.6138\n",
      "Epoch 16/50\n",
      "1563/1563 [==============================] - 114s 73ms/step - loss: 1.0756 - accuracy: 0.6265\n",
      "Epoch 17/50\n",
      "1563/1563 [==============================] - 113s 72ms/step - loss: 1.0575 - accuracy: 0.6276\n",
      "Epoch 18/50\n",
      "1563/1563 [==============================] - 114s 73ms/step - loss: 1.0330 - accuracy: 0.6421\n",
      "Epoch 19/50\n",
      "1563/1563 [==============================] - 123s 79ms/step - loss: 1.0021 - accuracy: 0.6522\n",
      "Epoch 20/50\n",
      "1563/1563 [==============================] - 118s 76ms/step - loss: 0.9822 - accuracy: 0.6596\n",
      "Epoch 21/50\n",
      "1563/1563 [==============================] - 113s 72ms/step - loss: 0.9431 - accuracy: 0.6735\n",
      "Epoch 22/50\n",
      "1563/1563 [==============================] - 113s 72ms/step - loss: 0.9250 - accuracy: 0.6821\n",
      "Epoch 23/50\n",
      "1563/1563 [==============================] - 135s 87ms/step - loss: 0.8941 - accuracy: 0.6905s - loss:\n",
      "Epoch 24/50\n",
      "1563/1563 [==============================] - 194s 124ms/step - loss: 0.8643 - accuracy: 0.7035\n",
      "Epoch 25/50\n",
      "1563/1563 [==============================] - 158s 101ms/step - loss: 0.8502 - accuracy: 0.7092\n",
      "Epoch 26/50\n",
      "1563/1563 [==============================] - 112s 72ms/step - loss: 0.8170 - accuracy: 0.7173\n",
      "Epoch 27/50\n",
      "1563/1563 [==============================] - 108s 69ms/step - loss: 0.7911 - accuracy: 0.7266\n",
      "Epoch 28/50\n",
      "1563/1563 [==============================] - 131s 84ms/step - loss: 0.7756 - accuracy: 0.7350\n",
      "Epoch 29/50\n",
      "1563/1563 [==============================] - 128s 82ms/step - loss: 0.7464 - accuracy: 0.7477\n",
      "Epoch 30/50\n",
      "1563/1563 [==============================] - 128s 82ms/step - loss: 0.7188 - accuracy: 0.7573s -\n",
      "Epoch 31/50\n",
      "1563/1563 [==============================] - 134s 86ms/step - loss: 0.7003 - accuracy: 0.7650\n",
      "Epoch 32/50\n",
      "1563/1563 [==============================] - 123s 79ms/step - loss: 0.6586 - accuracy: 0.7781\n",
      "Epoch 33/50\n",
      "1563/1563 [==============================] - 117s 75ms/step - loss: 0.6462 - accuracy: 0.7826\n",
      "Epoch 34/50\n",
      "1563/1563 [==============================] - 116s 74ms/step - loss: 0.6211 - accuracy: 0.7912\n",
      "Epoch 35/50\n",
      "1563/1563 [==============================] - 116s 74ms/step - loss: 0.5948 - accuracy: 0.8030\n",
      "Epoch 36/50\n",
      "1563/1563 [==============================] - 121s 77ms/step - loss: 0.5678 - accuracy: 0.8123\n",
      "Epoch 37/50\n",
      "1563/1563 [==============================] - 145s 93ms/step - loss: 0.5463 - accuracy: 0.8187\n",
      "Epoch 38/50\n",
      "1563/1563 [==============================] - 150s 96ms/step - loss: 0.5225 - accuracy: 0.8281\n",
      "Epoch 39/50\n",
      "1563/1563 [==============================] - 129s 83ms/step - loss: 0.4958 - accuracy: 0.8376s - loss: 0.4957 \n",
      "Epoch 40/50\n",
      "1563/1563 [==============================] - 132s 84ms/step - loss: 0.4770 - accuracy: 0.8452\n",
      "Epoch 41/50\n",
      "1563/1563 [==============================] - 129s 82ms/step - loss: 0.4480 - accuracy: 0.8555\n",
      "Epoch 42/50\n",
      "1563/1563 [==============================] - 150s 96ms/step - loss: 0.4282 - accuracy: 0.8635\n",
      "Epoch 43/50\n",
      "1563/1563 [==============================] - 128s 82ms/step - loss: 0.4065 - accuracy: 0.8698\n",
      "Epoch 44/50\n",
      "1563/1563 [==============================] - 119s 76ms/step - loss: 0.3910 - accuracy: 0.8757\n",
      "Epoch 45/50\n",
      "1563/1563 [==============================] - 148s 95ms/step - loss: 0.3715 - accuracy: 0.8831\n",
      "Epoch 46/50\n",
      "1563/1563 [==============================] - 154s 99ms/step - loss: 0.3496 - accuracy: 0.8938\n",
      "Epoch 47/50\n",
      "1563/1563 [==============================] - 126s 81ms/step - loss: 0.3329 - accuracy: 0.8991\n",
      "Epoch 48/50\n",
      "1563/1563 [==============================] - 127s 82ms/step - loss: 0.3132 - accuracy: 0.9054\n",
      "Epoch 49/50\n",
      "1563/1563 [==============================] - 127s 81ms/step - loss: 0.2950 - accuracy: 0.9138\n",
      "Epoch 50/50\n",
      "1563/1563 [==============================] - 121s 78ms/step - loss: 0.2798 - accuracy: 0.9170\n"
     ]
    },
    {
     "data": {
      "text/plain": [
       "<tensorflow.python.keras.callbacks.History at 0x14a8c15caf0>"
      ]
     },
     "execution_count": 25,
     "metadata": {},
     "output_type": "execute_result"
    }
   ],
   "source": [
    "#when categorical data, use categorical_crossentropy\n",
    "model = keras.Sequential([\n",
    "    keras.layers.Flatten(input_shape = (32, 32, 3)),\n",
    "    keras.layers.Dense(3000, activation = 'relu'),\n",
    "    keras.layers.Dense(1000, activation = 'relu'), \n",
    "    keras.layers.Dense(10, activation = 'sigmoid')\n",
    "])\n",
    "\n",
    "model.compile(optimizer = 'SGD',\n",
    "             loss = 'categorical_crossentropy',\n",
    "             metrics = ['accuracy'])\n",
    "\n",
    "model.fit(X_train_scaled, y_train_categorical, epochs = 50)"
   ]
  },
  {
   "cell_type": "code",
   "execution_count": 29,
   "metadata": {},
   "outputs": [
    {
     "data": {
      "text/plain": [
       "'cat'"
      ]
     },
     "execution_count": 29,
     "metadata": {},
     "output_type": "execute_result"
    }
   ],
   "source": [
    "classes[np.argmax(model.predict(X_test_scaled)[0])]"
   ]
  },
  {
   "cell_type": "code",
   "execution_count": 30,
   "metadata": {},
   "outputs": [
    {
     "data": {
      "text/plain": [
       "'cat'"
      ]
     },
     "execution_count": 30,
     "metadata": {},
     "output_type": "execute_result"
    }
   ],
   "source": [
    "classes[y_test[0][0]]"
   ]
  },
  {
   "cell_type": "code",
   "execution_count": 31,
   "metadata": {},
   "outputs": [],
   "source": [
    "#Comparison between cpu and gpu\n",
    "#when categorical data, use categorical_crossentropy\n",
    "\n",
    "def get_model():\n",
    "    model = keras.Sequential([\n",
    "        keras.layers.Flatten(input_shape = (32, 32, 3)),\n",
    "        keras.layers.Dense(3000, activation = 'relu'),\n",
    "        keras.layers.Dense(1000, activation = 'relu'), \n",
    "        keras.layers.Dense(10, activation = 'sigmoid')\n",
    "    ])\n",
    "\n",
    "    model.compile(optimizer = 'SGD',\n",
    "             loss = 'categorical_crossentropy',\n",
    "             metrics = ['accuracy'])\n",
    "    return model"
   ]
  },
  {
   "cell_type": "code",
   "execution_count": 32,
   "metadata": {},
   "outputs": [
    {
     "name": "stdout",
     "output_type": "stream",
     "text": [
      "1563/1563 [==============================] - 118s 75ms/step - loss: 0.2779 - accuracy: 0.9178\n",
      "2min 2s ± 0 ns per loop (mean ± std. dev. of 1 run, 1 loop each)\n"
     ]
    }
   ],
   "source": [
    "%%timeit -n1 -r1\n",
    "with tf.device('/CPU:0'):\n",
    "    cpu_mode = get_model()\n",
    "    model.fit(X_train_scaled, y_train_categorical, epochs = 1)"
   ]
  },
  {
   "cell_type": "code",
   "execution_count": 33,
   "metadata": {},
   "outputs": [
    {
     "name": "stdout",
     "output_type": "stream",
     "text": [
      "1563/1563 [==============================] - 130s 83ms/step - loss: 0.2583 - accuracy: 0.9261\n",
      "2min 10s ± 0 ns per loop (mean ± std. dev. of 1 run, 1 loop each)\n"
     ]
    }
   ],
   "source": [
    "%%timeit -n1 -r1\n",
    "with tf.device('/GPU:0'):\n",
    "    cpu_mode = get_model()\n",
    "    model.fit(X_train_scaled, y_train_categorical, epochs = 1)"
   ]
  }
 ],
 "metadata": {
  "kernelspec": {
   "display_name": "Python 3",
   "language": "python",
   "name": "python3"
  },
  "language_info": {
   "codemirror_mode": {
    "name": "ipython",
    "version": 3
   },
   "file_extension": ".py",
   "mimetype": "text/x-python",
   "name": "python",
   "nbconvert_exporter": "python",
   "pygments_lexer": "ipython3",
   "version": "3.8.3"
  }
 },
 "nbformat": 4,
 "nbformat_minor": 4
}
