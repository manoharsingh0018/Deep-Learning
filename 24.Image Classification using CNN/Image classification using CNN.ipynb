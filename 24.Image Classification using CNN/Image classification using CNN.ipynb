{
 "cells": [
  {
   "cell_type": "code",
   "execution_count": 1,
   "metadata": {},
   "outputs": [],
   "source": [
    "import tensorflow as tf\n",
    "from tensorflow.keras import datasets, layers, models\n",
    "import matplotlib.pyplot as plt\n",
    "import numpy as np"
   ]
  },
  {
   "cell_type": "code",
   "execution_count": 2,
   "metadata": {},
   "outputs": [
    {
     "data": {
      "text/plain": [
       "(50000, 32, 32, 3)"
      ]
     },
     "execution_count": 2,
     "metadata": {},
     "output_type": "execute_result"
    }
   ],
   "source": [
    "(X_train, y_train), (X_test, y_test) = datasets.cifar10.load_data()\n",
    "X_train.shape"
   ]
  },
  {
   "cell_type": "code",
   "execution_count": 10,
   "metadata": {},
   "outputs": [
    {
     "data": {
      "text/plain": [
       "array([[6],\n",
       "       [9],\n",
       "       [9],\n",
       "       [4],\n",
       "       [1]], dtype=uint8)"
      ]
     },
     "execution_count": 10,
     "metadata": {},
     "output_type": "execute_result"
    }
   ],
   "source": [
    "y_train[:5]"
   ]
  },
  {
   "cell_type": "code",
   "execution_count": 11,
   "metadata": {},
   "outputs": [
    {
     "data": {
      "text/plain": [
       "array([6, 9, 9, 4, 1], dtype=uint8)"
      ]
     },
     "execution_count": 11,
     "metadata": {},
     "output_type": "execute_result"
    }
   ],
   "source": [
    "y_train = y_train.reshape(-1, ) #2d array into 1d array\n",
    "y_train[:5]"
   ]
  },
  {
   "cell_type": "code",
   "execution_count": 3,
   "metadata": {},
   "outputs": [
    {
     "data": {
      "text/plain": [
       "(10000, 32, 32, 3)"
      ]
     },
     "execution_count": 3,
     "metadata": {},
     "output_type": "execute_result"
    }
   ],
   "source": [
    "X_test.shape"
   ]
  },
  {
   "cell_type": "code",
   "execution_count": 14,
   "metadata": {},
   "outputs": [],
   "source": [
    "classes = [\"airplane\", \"automobile\", \"bird\", \"cat\", \"deer\", \"dog\", \"frog\", \"horse\", \"ship\", \"truck\"]"
   ]
  },
  {
   "cell_type": "code",
   "execution_count": 34,
   "metadata": {},
   "outputs": [
    {
     "data": {
      "image/png": "[encoded data removed]",
      "text/plain": [
       "<Figure size 216x144 with 1 Axes>"
      ]
     },
     "metadata": {
      "needs_background": "light"
     },
     "output_type": "display_data"
    }
   ],
   "source": [
    "def plot_sample(X,y, index):\n",
    "    plt.figure(figsize=(3,2))\n",
    "    plt.imshow(X[index])\n",
    "    \n",
    "    plt.xlabel(classes[y[index]])\n",
    "    \n",
    "plot_sample(X_train, y_train, 1)"
   ]
  },
  {
   "cell_type": "code",
   "execution_count": 16,
   "metadata": {},
   "outputs": [],
   "source": [
    "X_train = X_train /255\n",
    "X_test = X_test /255"
   ]
  },
  {
   "cell_type": "code",
   "execution_count": 19,
   "metadata": {},
   "outputs": [
    {
     "name": "stdout",
     "output_type": "stream",
     "text": [
      "Epoch 1/5\n",
      "1563/1563 [==============================] - 111s 70ms/step - loss: 1.9347 - accuracy: 0.3074\n",
      "Epoch 2/5\n",
      "1563/1563 [==============================] - 104s 67ms/step - loss: 1.6473 - accuracy: 0.4173\n",
      "Epoch 3/5\n",
      "1563/1563 [==============================] - 105s 67ms/step - loss: 1.5517 - accuracy: 0.4537\n",
      "Epoch 4/5\n",
      "1563/1563 [==============================] - 105s 67ms/step - loss: 1.4956 - accuracy: 0.4748\n",
      "Epoch 5/5\n",
      "1563/1563 [==============================] - 104s 66ms/step - loss: 1.4412 - accuracy: 0.4907\n"
     ]
    },
    {
     "data": {
      "text/plain": [
       "<tensorflow.python.keras.callbacks.History at 0x214e3ce6a30>"
      ]
     },
     "execution_count": 19,
     "metadata": {},
     "output_type": "execute_result"
    }
   ],
   "source": [
    "model = models.Sequential([\n",
    "    layers.Flatten(input_shape = (32, 32, 3)),\n",
    "    layers.Dense(3000,  activation = 'relu'),\n",
    "    layers.Dense(1000, activation = 'relu'),\n",
    "    layers.Dense(10, activation = 'sigmoid')    \n",
    "])\n",
    "\n",
    "#tensorboard\n",
    "tb_callback = tf.keras.callbacks.TensorBoard(log_dir = \"logs/\", histogram_freq = 1)\n",
    "model.compile(\n",
    "    optimizer = 'SGD',\n",
    "    loss ='sparse_categorical_crossentropy',\n",
    "    metrics = ['accuracy']\n",
    ")\n",
    "    \n",
    "model.fit(X_train, y_train, epochs = 5, callbacks = [tb_callback])"
   ]
  },
  {
   "cell_type": "code",
   "execution_count": 21,
   "metadata": {},
   "outputs": [
    {
     "name": "stdout",
     "output_type": "stream",
     "text": [
      "313/313 [==============================] - 8s 25ms/step - loss: 1.4605 - accuracy: 0.4815\n"
     ]
    },
    {
     "data": {
      "text/plain": [
       "[1.4604711532592773, 0.4814999997615814]"
      ]
     },
     "execution_count": 21,
     "metadata": {},
     "output_type": "execute_result"
    }
   ],
   "source": [
    "model.evaluate(X_test,y_test)"
   ]
  },
  {
   "cell_type": "code",
   "execution_count": 23,
   "metadata": {},
   "outputs": [
    {
     "name": "stdout",
     "output_type": "stream",
     "text": [
      "Classification Report\n",
      "               precision    recall  f1-score   support\n",
      "\n",
      "           0       0.51      0.58      0.54      1000\n",
      "           1       0.52      0.73      0.61      1000\n",
      "           2       0.37      0.38      0.38      1000\n",
      "           3       0.31      0.48      0.38      1000\n",
      "           4       0.58      0.19      0.29      1000\n",
      "           5       0.49      0.24      0.32      1000\n",
      "           6       0.44      0.65      0.53      1000\n",
      "           7       0.71      0.40      0.51      1000\n",
      "           8       0.60      0.64      0.62      1000\n",
      "           9       0.54      0.52      0.53      1000\n",
      "\n",
      "    accuracy                           0.48     10000\n",
      "   macro avg       0.51      0.48      0.47     10000\n",
      "weighted avg       0.51      0.48      0.47     10000\n",
      "\n"
     ]
    }
   ],
   "source": [
    "from sklearn.metrics import confusion_matrix, classification_report\n",
    "import numpy as np\n",
    "y_pred = model.predict(X_test)\n",
    "\n",
    "y_pred_classes = [np.argmax(each) for each in y_pred]\n",
    "\n",
    "print(\"Classification Report\\n\", classification_report(y_test, y_pred_classes))"
   ]
  },
  {
   "cell_type": "code",
   "execution_count": 26,
   "metadata": {},
   "outputs": [],
   "source": [
    "cnn = models.Sequential([\n",
    "    #cnn layer 1\n",
    "    layers.Conv2D(filters = 32, kernel_size = (3,3), activation = 'relu', input_shape = (32,32, 3)),\n",
    "    layers.MaxPooling2D((2, 2)),\n",
    "    \n",
    "    layers.Conv2D(filters = 32, kernel_size = (3,3), activation = 'relu', input_shape = (32,32, 3)),\n",
    "    layers.MaxPooling2D((2, 2)),\n",
    "    \n",
    "    #cnn layer 2\n",
    "    layers.Flatten(),\n",
    "    layers.Dense(64, activation = 'relu'),\n",
    "    layers.Dense(10, activation = 'softmax')    \n",
    "])"
   ]
  },
  {
   "cell_type": "code",
   "execution_count": 27,
   "metadata": {},
   "outputs": [],
   "source": [
    "#tensorboard\n",
    "tb_callback = tf.keras.callbacks.TensorBoard(log_dir = \"logs/\", histogram_freq = 1)\n",
    "\n",
    "cnn.compile(\n",
    "    optimizer = 'adam',\n",
    "    loss ='sparse_categorical_crossentropy',\n",
    "    metrics = ['accuracy']\n",
    ")"
   ]
  },
  {
   "cell_type": "code",
   "execution_count": 29,
   "metadata": {},
   "outputs": [
    {
     "name": "stdout",
     "output_type": "stream",
     "text": [
      "Epoch 1/10\n",
      "1563/1563 [==============================] - 51s 33ms/step - loss: 1.4214 - accuracy: 0.4911\n",
      "Epoch 2/10\n",
      "1563/1563 [==============================] - 52s 33ms/step - loss: 1.1399 - accuracy: 0.6000\n",
      "Epoch 3/10\n",
      "1563/1563 [==============================] - 52s 33ms/step - loss: 1.0145 - accuracy: 0.6497\n",
      "Epoch 4/10\n",
      "1563/1563 [==============================] - 51s 33ms/step - loss: 0.9374 - accuracy: 0.6750\n",
      "Epoch 5/10\n",
      "1563/1563 [==============================] - 51s 33ms/step - loss: 0.8745 - accuracy: 0.6973\n",
      "Epoch 6/10\n",
      "1563/1563 [==============================] - 51s 33ms/step - loss: 0.8225 - accuracy: 0.7136\n",
      "Epoch 7/10\n",
      "1563/1563 [==============================] - 51s 33ms/step - loss: 0.7770 - accuracy: 0.7285\n",
      "Epoch 8/10\n",
      "1563/1563 [==============================] - 53s 34ms/step - loss: 0.7434 - accuracy: 0.7399\n",
      "Epoch 9/10\n",
      "1563/1563 [==============================] - 56s 36ms/step - loss: 0.7118 - accuracy: 0.7511\n",
      "Epoch 10/10\n",
      "1563/1563 [==============================] - 50s 32ms/step - loss: 0.6821 - accuracy: 0.7626\n"
     ]
    },
    {
     "data": {
      "text/plain": [
       "<tensorflow.python.keras.callbacks.History at 0x2153d950e20>"
      ]
     },
     "execution_count": 29,
     "metadata": {},
     "output_type": "execute_result"
    }
   ],
   "source": [
    "cnn.fit(X_train, y_train, epochs = 10, callbacks = [tb_callback])"
   ]
  },
  {
   "cell_type": "code",
   "execution_count": 31,
   "metadata": {},
   "outputs": [
    {
     "name": "stdout",
     "output_type": "stream",
     "text": [
      "313/313 [==============================] - 4s 12ms/step - loss: 0.9188 - accuracy: 0.6929\n"
     ]
    },
    {
     "data": {
      "text/plain": [
       "[0.9187758564949036, 0.6929000020027161]"
      ]
     },
     "execution_count": 31,
     "metadata": {},
     "output_type": "execute_result"
    }
   ],
   "source": [
    "cnn.evaluate(X_test, y_test)"
   ]
  },
  {
   "cell_type": "code",
   "execution_count": 35,
   "metadata": {},
   "outputs": [
    {
     "data": {
      "image/png": "[encoded data removed]",
      "text/plain": [
       "<Figure size 216x144 with 1 Axes>"
      ]
     },
     "metadata": {
      "needs_background": "light"
     },
     "output_type": "display_data"
    }
   ],
   "source": [
    "y_test = y_test.reshape(-1, )\n",
    "plot_sample(X_test, y_test, 1)"
   ]
  },
  {
   "cell_type": "code",
   "execution_count": 36,
   "metadata": {},
   "outputs": [
    {
     "data": {
      "text/plain": [
       "array([[2.1041527e-03, 2.8805441e-04, 1.0774211e-03, 6.1618716e-01,\n",
       "        3.4899390e-03, 1.9858982e-01, 1.7640220e-01, 5.2850584e-05,\n",
       "        1.1080361e-03, 7.0035522e-04],\n",
       "       [4.7116831e-02, 6.7008011e-02, 5.5495593e-07, 9.3286246e-07,\n",
       "        1.8705208e-07, 8.5461265e-09, 1.7830081e-08, 3.3519004e-08,\n",
       "        8.8151592e-01, 4.3574614e-03],\n",
       "       [7.5497366e-02, 5.2881914e-01, 1.7305585e-03, 5.5305408e-03,\n",
       "        1.6945457e-03, 5.3377164e-04, 3.2071731e-04, 2.8141621e-03,\n",
       "        3.4650308e-01, 3.6556080e-02],\n",
       "       [8.3576107e-01, 7.3516960e-03, 1.8855793e-03, 2.1127188e-03,\n",
       "        4.4129213e-04, 2.5690667e-04, 7.6905446e-04, 2.7418812e-04,\n",
       "        1.5107088e-01, 7.6554825e-05],\n",
       "       [4.9276309e-06, 1.8436655e-04, 5.1821914e-02, 1.2624202e-02,\n",
       "        4.0117067e-01, 4.0451186e-03, 5.3006852e-01, 7.5106342e-05,\n",
       "        4.9041532e-06, 1.7297440e-07]], dtype=float32)"
      ]
     },
     "execution_count": 36,
     "metadata": {},
     "output_type": "execute_result"
    }
   ],
   "source": [
    "y_pred = cnn.predict(X_test)\n",
    "y_pred[:5]"
   ]
  },
  {
   "cell_type": "code",
   "execution_count": 39,
   "metadata": {},
   "outputs": [
    {
     "data": {
      "text/plain": [
       "[3, 8, 1, 0, 6]"
      ]
     },
     "execution_count": 39,
     "metadata": {},
     "output_type": "execute_result"
    }
   ],
   "source": [
    "y_pred_classes = [np.argmax(each) for each in y_pred]\n",
    "y_pred_classes[:5]"
   ]
  },
  {
   "cell_type": "code",
   "execution_count": 42,
   "metadata": {},
   "outputs": [
    {
     "data": {
      "text/plain": [
       "array([3, 8, 8, 0, 6], dtype=uint8)"
      ]
     },
     "execution_count": 42,
     "metadata": {},
     "output_type": "execute_result"
    }
   ],
   "source": [
    "y_test[:5]"
   ]
  },
  {
   "cell_type": "code",
   "execution_count": 41,
   "metadata": {},
   "outputs": [
    {
     "data": {
      "image/png": "[encoded data removed]",
      "text/plain": [
       "<Figure size 216x144 with 1 Axes>"
      ]
     },
     "metadata": {
      "needs_background": "light"
     },
     "output_type": "display_data"
    }
   ],
   "source": [
    "plot_sample(X_test, y_test, 1)"
   ]
  },
  {
   "cell_type": "code",
   "execution_count": 40,
   "metadata": {},
   "outputs": [
    {
     "data": {
      "image/png": "[encoded data removed]",
      "text/plain": [
       "<Figure size 216x144 with 1 Axes>"
      ]
     },
     "metadata": {
      "needs_background": "light"
     },
     "output_type": "display_data"
    }
   ],
   "source": [
    "plot_sample(X_test, y_pred_classes, 1)"
   ]
  },
  {
   "cell_type": "code",
   "execution_count": 45,
   "metadata": {},
   "outputs": [
    {
     "data": {
      "image/png": "[encoded data removed]",
      "text/plain": [
       "<Figure size 216x144 with 1 Axes>"
      ]
     },
     "metadata": {
      "needs_background": "light"
     },
     "output_type": "display_data"
    }
   ],
   "source": [
    "plot_sample(X_test, y_test, 2)"
   ]
  },
  {
   "cell_type": "code",
   "execution_count": 46,
   "metadata": {},
   "outputs": [
    {
     "data": {
      "image/png": "[encoded data removed]",
      "text/plain": [
       "<Figure size 216x144 with 1 Axes>"
      ]
     },
     "metadata": {
      "needs_background": "light"
     },
     "output_type": "display_data"
    }
   ],
   "source": [
    "plot_sample(X_test, y_pred_classes, 2)"
   ]
  }
 ],
 "metadata": {
  "kernelspec": {
   "display_name": "Python 3",
   "language": "python",
   "name": "python3"
  },
  "language_info": {
   "codemirror_mode": {
    "name": "ipython",
    "version": 3
   },
   "file_extension": ".py",
   "mimetype": "text/x-python",
   "name": "python",
   "nbconvert_exporter": "python",
   "pygments_lexer": "ipython3",
   "version": "3.8.3"
  }
 },
 "nbformat": 4,
 "nbformat_minor": 4
}
